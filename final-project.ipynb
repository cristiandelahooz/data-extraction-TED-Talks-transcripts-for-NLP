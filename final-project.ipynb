{
 "cells": [
  {
   "cell_type": "markdown",
   "metadata": {},
   "source": [
    "<div style=\"background-color: #fffacd; color: #000; padding: 20px; margin: 10px; border-left: 5px solid #f0c040; border-radius: 5px;\">\n",
    "\n",
    "# Análisis de Popularidad de TED Talks mediante Procesamiento de Lenguaje Natural\n",
    "\n",
    "## Proyecto Final - Materia de NLP\n",
    "\n",
    "### Equipo de Trabajo\n",
    "- **Manuel Rodriguez** - ID: 1015-0681  \n",
    "- **Carolina Bencosme** - ID: 1014-8929  \n",
    "- **Cristian de la Hoz** - ID: 1014-9779  \n",
    "\n",
    "**Fecha:** Agosto 2025  \n",
    "**Objetivo:** Determinar los factores que hacen popular un TED Talk utilizando técnicas avanzadas de extracción de información y machine learning\n",
    "\n",
    "---\n",
    "\n",
    "### 🔴 IMPORTANTE - Repositorio GitHub\n",
    "\n",
    "<div style=\"background-color: #ffebee; border: 3px solid #e53e3e; padding: 15px; margin: 10px 0; border-radius: 8px;\">\n",
    "<h4 style=\"color: #c53030; margin-top: 0;\">📍 UBICACIÓN DEL PROYECTO COMPLETO</h4>\n",
    "\n",
    "**El proyecto se encuentra en GitHub, no fue subido junto con el resto de la asignación debido al límite en la PVA. El proyecto se vio en la necesidad de ser modularizado debido a que era bastante extenso, incluso luego de hacerlo el mismo sigue siendo muy extenso.**\n",
    "\n",
    "**Para visualizar las implementaciones completas, favor de dirigirse al repositorio:**\n",
    "\n",
    "🔗 **https://github.com/cristiandelahooz/data-extraction-TED-Talks-transcripts-for-NLP**\n",
    "\n",
    "</div>\n",
    "\n",
    "---\n",
    "\n",
    "### Resumen Ejecutivo\n",
    "\n",
    "Este proyecto analiza el dataset `ted_talks_en.csv` para identificar patrones que determinan la popularidad de las charlas TED. Mediante técnicas de NLP como Named Entity Recognition (NER), análisis de sentimientos y extracción de características textuales, se entrenan múltiples modelos de machine learning para clasificar videos en categorías de popularidad.\n",
    "\n",
    "**Meta Principal:** Alcanzar un F1-score superior a 0.78 en la clasificación de popularidad.\n",
    "\n",
    "### Estructura del Proyecto\n",
    "\n",
    "``` bash\n",
    "data-extraction-TED-Talks-transcripts-for-NLP/\n",
    "├── final-project.ipynb          # Notebook principal documentado\n",
    "├── ted_talks_en.csv            # Dataset de TED Talks\n",
    "├── model_summary.txt           # Resumen de resultados de modelos\n",
    "└── modules/                    # Módulos especializados\n",
    "    ├── __init__.py            # Importaciones principales\n",
    "    ├── environment_setup.py   # Configuración de ambiente NLP\n",
    "    ├── data_cleaner.py        # Limpieza profesional de datos\n",
    "    ├── nlp_processor.py       # Extracción de características NLP\n",
    "    ├── ml_models.py           # Entrenamiento de modelos ML\n",
    "    ├── visualizer.py          # Generación de gráficos\n",
    "    └── progress_tracker.py    # Monitoreo de progreso\n",
    "```\n",
    "\n",
    "**Arquitectura Modular:** Cada módulo tiene una responsabilidad específica, facilitando mantenimiento, testing y escalabilidad del sistema.\n",
    "\n",
    "</div>"
   ]
  },
  {
   "cell_type": "code",
   "execution_count": 1,
   "metadata": {
    "cell_id": "1fbc8c4a00154002a05a0c549d6ac802",
    "deepnote_cell_type": "code",
    "execution_context_id": "a52b3bcb-788a-4e41-aa52-adcf646dfc94",
    "execution_millis": 19467,
    "execution_start": 1754285854636,
    "source_hash": "1066cd4c"
   },
   "outputs": [
    {
     "name": "stdout",
     "output_type": "stream",
     "text": [
      "OK - Sistema de progreso en tiempo real cargado\n",
      "Módulo de configuración del ambiente cargado\n",
      "Módulo de limpieza de datos cargado\n",
      "Módulo de limpieza de datos cargado\n",
      "Módulo de procesamiento NLP cargado\n",
      "Módulo de procesamiento NLP cargado\n",
      "Módulo de visualización cargado\n",
      "Módulo de machine learning cargado\n",
      "Modulos cargados correctamente\n",
      "Módulo de visualización cargado\n",
      "Módulo de machine learning cargado\n",
      "Modulos cargados correctamente\n"
     ]
    }
   ],
   "source": [
    "# === ANALISIS DE POPULARIDAD DE TED TALKS ===\n",
    "# Aplicacion de Extraccion de Informacion y Comparacion de Modelos ML\n",
    "\n",
    "# Importar la clase principal que controla todo el flujo\n",
    "from modules import TedTalkAnalyzer\n",
    "\n",
    "import warnings\n",
    "warnings.filterwarnings('ignore')\n",
    "\n",
    "print(\"Modulos cargados correctamente\")"
   ]
  },
  {
   "cell_type": "markdown",
   "metadata": {},
   "source": [
    "<div style=\"background-color: #fffacd; color: #000; padding: 20px; margin: 10px; border-left: 5px solid #f0c040; border-radius: 5px;\">\n",
    "\n",
    "## 1. Importación de Módulos y Configuración Inicial\n",
    "\n",
    "### Propósito\n",
    "Esta sección inicial configura el entorno de trabajo importando la clase principal `TedTalkAnalyzer` que encapsula toda la lógica del análisis. Esta aproximación modular permite mantener el código organizado y reutilizable.\n",
    "\n",
    "### Técnicas Empleadas\n",
    "- **Arquitectura Modular:** Separación de responsabilidades en diferentes módulos especializados\n",
    "- **Supresión de Warnings:** Para mantener la salida limpia durante el procesamiento\n",
    "- **Importación Dinámica:** Los módulos se cargan bajo demanda para optimizar memoria\n",
    "\n",
    "### Módulos Principales del Sistema\n",
    "1. **`environment_setup.py`:** Gestión de dependencias y configuración del entorno\n",
    "2. **`data_cleaner.py`:** Limpieza y preprocesamiento de datos con estándares industriales\n",
    "3. **`nlp_processor.py`:** Técnicas avanzadas de NLP (NER, sentimientos, features textuales)\n",
    "4. **`ml_models.py`:** Entrenamiento y evaluación de modelos de machine learning\n",
    "5. **`visualizer.py`:** Generación de gráficos y métricas de rendimiento\n",
    "6. **`progress_tracker.py`:** Monitoreo en tiempo real del progreso\n",
    "\n",
    "### Beneficios de esta Arquitectura\n",
    "- **Mantenibilidad:** Cada módulo tiene una responsabilidad específica\n",
    "- **Escalabilidad:** Fácil agregar nuevas técnicas sin afectar el código existente\n",
    "- **Reutilización:** Los módulos pueden usarse en otros proyectos de NLP\n",
    "- **Testing:** Cada componente puede probarse independientemente\n",
    "\n",
    "</div>"
   ]
  },
  {
   "cell_type": "code",
   "execution_count": 2,
   "metadata": {
    "cell_id": "421855a6adaf4a6f90e73d9a35b69a05",
    "deepnote_cell_type": "code",
    "execution_context_id": "a52b3bcb-788a-4e41-aa52-adcf646dfc94",
    "execution_millis": 1,
    "execution_start": 1754285874155,
    "source_hash": "65ab57b1"
   },
   "outputs": [
    {
     "name": "stdout",
     "output_type": "stream",
     "text": [
      "Creando instancia del analizador TED Talks...\n",
      "Analizador creado correctamente\n",
      "Metodos disponibles:\n",
      "- setup_environment(): Configurar ambiente\n",
      "- load_data(): Cargar datos\n",
      "- clean_data(): Limpiar datos\n",
      "- process_nlp_features(): Procesar NLP\n",
      "- train_models(): Entrenar modelos ML\n",
      "- create_visualizations(): Crear graficos\n",
      "- run_complete_analysis(): Ejecutar todo automaticamente\n"
     ]
    }
   ],
   "source": [
    "# === CREAR INSTANCIA DEL ANALIZADOR ===\n",
    "\n",
    "print(\"Creando instancia del analizador TED Talks...\")\n",
    "\n",
    "# Crear instancia de la clase principal\n",
    "analyzer = TedTalkAnalyzer()\n",
    "\n",
    "print(\"Analizador creado correctamente\")\n",
    "print(\"Metodos disponibles:\")\n",
    "print(\"- setup_environment(): Configurar ambiente\")\n",
    "print(\"- load_data(): Cargar datos\")\n",
    "print(\"- clean_data(): Limpiar datos\")\n",
    "print(\"- process_nlp_features(): Procesar NLP\")\n",
    "print(\"- train_models(): Entrenar modelos ML\")\n",
    "print(\"- create_visualizations(): Crear graficos\")\n",
    "print(\"- run_complete_analysis(): Ejecutar todo automaticamente\")"
   ]
  },
  {
   "cell_type": "markdown",
   "metadata": {},
   "source": [
    "<div style=\"background-color: #fffacd; color: #000; padding: 20px; margin: 10px; border-left: 5px solid #f0c040; border-radius: 5px;\">\n",
    "\n",
    "## 2. Inicialización del Analizador Principal\n",
    "\n",
    "### Propósito\n",
    "Crear una instancia de la clase `TedTalkAnalyzer` que actuará como el controlador central de todo el pipeline de análisis. Esta clase implementa el patrón **Factory** y **Pipeline** para gestionar el flujo completo de datos.\n",
    "\n",
    "### Métodos Disponibles del Analizador\n",
    "\n",
    "#### Métodos Individuales (Para Control Granular)\n",
    "- **`setup_environment()`:** Configura dependencias, descarga modelos NLP y prepara el entorno\n",
    "- **`load_data()`:** Carga y valida el dataset inicial\n",
    "- **`clean_data()`:** Aplica técnicas de limpieza profesional de datos\n",
    "- **`process_nlp_features()`:** Extrae características mediante NLP avanzado\n",
    "- **`train_models()`:** Entrena y compara múltiples algoritmos de ML\n",
    "- **`create_visualizations()`:** Genera gráficos y métricas de rendimiento\n",
    "\n",
    "#### Método Automatizado\n",
    "- **`run_complete_analysis()`:** Ejecuta todo el pipeline automáticamente\n",
    "\n",
    "### Beneficios del Patrón Pipeline\n",
    "1. **Trazabilidad:** Cada paso puede ejecutarse y verificarse independientemente\n",
    "2. **Debugging:** Si hay errores, se puede identificar exactamente dónde ocurrieron\n",
    "3. **Experimentación:** Permite probar diferentes configuraciones en pasos específicos\n",
    "4. **Reproducibilidad:** El mismo pipeline garantiza resultados consistentes\n",
    "\n",
    "### Relación con el Análisis Global\n",
    "Esta instancia mantendrá todo el estado del análisis (datos originales, procesados, modelos entrenados, resultados) permitiendo acceso consistente a través de todo el notebook.\n",
    "\n",
    "</div>"
   ]
  },
  {
   "cell_type": "code",
   "execution_count": 3,
   "metadata": {
    "cell_id": "c7095e88845b4fe19708d4df2669befb",
    "deepnote_cell_type": "code",
    "execution_context_id": "a52b3bcb-788a-4e41-aa52-adcf646dfc94",
    "execution_millis": 50249,
    "execution_start": 1754285874215,
    "source_hash": "64b5d9ef"
   },
   "outputs": [
    {
     "name": "stdout",
     "output_type": "stream",
     "text": [
      "INICIO: 11:59:10\n",
      "Configurando ambiente y dependencias...\n",
      "Esto puede tomar 2-5 minutos la primera vez\n",
      "==================================================\n",
      "\n",
      "=== CONFIGURANDO AMBIENTE ===\n",
      "=== CONFIGURACION DEL AMBIENTE ===\n",
      "Tiempo estimado: 2-5 minutos\n",
      "\n",
      "PASO 1/3: Instalando 8 paquetes esenciales...\n",
      "  [1/8] Instalando pandas>=1.3.0...Instalando pandas>=1.3.0... OK\n",
      "  [2/8] Instalando numpy>=2.0.0... OK\n",
      "  [2/8] Instalando numpy>=2.0.0... OK\n",
      "  [3/8] Instalando scikit-learn>=1.0.0... OK\n",
      "  [3/8] Instalando scikit-learn>=1.0.0... OK\n",
      "  [4/8] Instalando matplotlib>=3.4.0... OK\n",
      "  [4/8] Instalando matplotlib>=3.4.0... OK\n",
      "  [5/8] Instalando seaborn>=0.11.0... OK\n",
      "  [5/8] Instalando seaborn>=0.11.0... OK\n",
      "  [6/8] Instalando nltk>=3.7... OK\n",
      "  [6/8] Instalando nltk>=3.7... OK\n",
      "  [7/8] Instalando textblob>=0.17.0... OK\n",
      "  [7/8] Instalando textblob>=0.17.0... OK\n",
      "  [8/8] Instalando tqdm>=4.64.0... OK\n",
      "  [8/8] Instalando tqdm>=4.64.0... OK\n",
      "\n",
      "Paquetes esenciales: 8/8 instalados\n",
      "\n",
      "PASO 2/3: Instalando 3 paquetes opcionales...\n",
      "  [1/3] Instalando plotly>=5.0.0... OK\n",
      "\n",
      "Paquetes esenciales: 8/8 instalados\n",
      "\n",
      "PASO 2/3: Instalando 3 paquetes opcionales...\n",
      "  [1/3] Instalando plotly>=5.0.0... OK\n",
      "  [2/3] Instalando spacy>=3.4.0... OK\n",
      "  [2/3] Instalando spacy>=3.4.0... OK\n",
      "  [3/3] Instalando wordcloud>=1.8.0... OK\n",
      "  [3/3] Instalando wordcloud>=1.8.0... OK\n",
      "\n",
      "Paquetes opcionales: 3/3 instalados\n",
      "\n",
      "PASO 3/3: Configurando modelos de NLP...\n",
      "  Descargando datos NLTK... OK\n",
      "\n",
      "Paquetes opcionales: 3/3 instalados\n",
      "\n",
      "PASO 3/3: Configurando modelos de NLP...\n",
      "  Descargando datos NLTK...OK\n",
      "  Verificando spaCy...OK\n",
      "  Verificando spaCy..."
     ]
    },
    {
     "name": "stderr",
     "output_type": "stream",
     "text": [
      "[nltk_data] Downloading package punkt_tab to\n",
      "[nltk_data]     /teamspace/studios/this_studio/nltk_data...\n",
      "[nltk_data]   Package punkt_tab is already up-to-date!\n",
      "[nltk_data] Downloading package stopwords to\n",
      "[nltk_data]     /teamspace/studios/this_studio/nltk_data...\n",
      "[nltk_data]   Package stopwords is already up-to-date!\n",
      "[nltk_data] Downloading package vader_lexicon to\n",
      "[nltk_data]     /teamspace/studios/this_studio/nltk_data...\n",
      "[nltk_data]   Package vader_lexicon is already up-to-date!\n"
     ]
    },
    {
     "name": "stdout",
     "output_type": "stream",
     "text": [
      " OK\n",
      "\n",
      "CONFIGURACION COMPLETADA\n",
      "========================================\n",
      "✓ GPU disponible: Tesla T4\n",
      "✓ spaCy cargado correctamente\n",
      "✓ NLTK configurado correctamente\n",
      "Ambiente configurado correctamente\n",
      "\n",
      "Tiempo total: 43.0 segundos\n",
      "COMPLETADO: 11:59:53\n",
      "==================================================\n",
      "✓ spaCy cargado correctamente\n",
      "✓ NLTK configurado correctamente\n",
      "Ambiente configurado correctamente\n",
      "\n",
      "Tiempo total: 43.0 segundos\n",
      "COMPLETADO: 11:59:53\n",
      "==================================================\n"
     ]
    }
   ],
   "source": [
    "# === CONFIGURACION DEL AMBIENTE ===\n",
    "\n",
    "import time\n",
    "from datetime import datetime\n",
    "\n",
    "print(\"INICIO:\", datetime.now().strftime(\"%H:%M:%S\"))\n",
    "print(\"Configurando ambiente y dependencias...\")\n",
    "print(\"Esto puede tomar 2-5 minutos la primera vez\")\n",
    "print(\"=\" * 50)\n",
    "\n",
    "# Configurar ambiente usando el metodo del analizador\n",
    "start_time = time.time()\n",
    "analyzer.setup_environment()\n",
    "end_time = time.time()\n",
    "\n",
    "elapsed = end_time - start_time\n",
    "print(f\"\\nTiempo total: {elapsed:.1f} segundos\")\n",
    "print(f\"COMPLETADO:\", datetime.now().strftime(\"%H:%M:%S\"))\n",
    "print(\"=\" * 50)"
   ]
  },
  {
   "cell_type": "markdown",
   "metadata": {},
   "source": [
    "<div style=\"background-color: #fffacd; color: #000; padding: 20px; margin: 10px; border-left: 5px solid #f0c040; border-radius: 5px;\">\n",
    "\n",
    "## 3. Configuración del Ambiente y Dependencias\n",
    "\n",
    "### Propósito\n",
    "Preparar todo el entorno computacional necesario para el análisis avanzado de NLP. Este paso es crítico porque descarga y configura modelos pre-entrenados, librerías especializadas y datos auxiliares.\n",
    "\n",
    "### Componentes que se Configuran\n",
    "\n",
    "#### Librerías de NLP\n",
    "- **NLTK:** Descarga de corpora (stopwords, punkt tokenizer, VADER lexicon)\n",
    "- **spaCy:** Modelo `en_core_web_sm` para NER y análisis sintáctico\n",
    "- **Hugging Face:** Modelos pre-entrenados para análisis de sentimientos avanzado\n",
    "\n",
    "#### Optimizaciones de Rendimiento\n",
    "- **Caché Inteligente:** Evita descargas repetidas si los modelos ya existen\n",
    "- **Verificación de Integridad:** Valida que todos los modelos se descargaron correctamente\n",
    "- **Gestión de Memoria:** Configuración óptima para procesamiento de texto grande\n",
    "\n",
    "### Técnicas Empleadas\n",
    "\n",
    "#### ¿Por qué este paso toma tiempo?\n",
    "La primera ejecución descarga varios GB de datos:\n",
    "- Modelo spaCy en_core_web_sm (~50MB)\n",
    "- Corpora de NLTK (~200MB)\n",
    "- Vocabularios y embeddings pre-entrenados\n",
    "\n",
    "#### Estrategia de Caché\n",
    "El sistema implementa caché persistente que:\n",
    "1. Verifica si los modelos ya están instalados\n",
    "2. Solo descarga componentes faltantes\n",
    "3. Valida integridad de archivos existentes\n",
    "\n",
    "### Resultados Esperados\n",
    "-  Todos los modelos NLP listos para usar\n",
    "-  Configuración optimizada de memoria\n",
    "-  Verificación de compatibilidad de versiones\n",
    "- ️ Tiempo típico: 2-5 minutos (primera vez), <30 segundos (subsecuentes)\n",
    "\n",
    "### Relación con el Análisis Global\n",
    "Sin este paso, las técnicas avanzadas de NLP no funcionarían. Es la base que permite:\n",
    "- Reconocimiento preciso de entidades nombradas\n",
    "- Análisis de sentimientos con modelos state-of-the-art\n",
    "- Tokenización y lemmatización eficientes\n",
    "\n",
    "</div>"
   ]
  },
  {
   "cell_type": "code",
   "execution_count": 4,
   "metadata": {
    "cell_id": "ea1bbcae76a446a08d44ec5f68a6190f",
    "deepnote_cell_type": "code",
    "deepnote_to_be_reexecuted": true,
    "execution_context_id": "a52b3bcb-788a-4e41-aa52-adcf646dfc94",
    "execution_millis": 1125,
    "execution_start": 1754286173402,
    "source_hash": "f2aee897"
   },
   "outputs": [
    {
     "name": "stdout",
     "output_type": "stream",
     "text": [
      "Cargando dataset ted_talks_en.csv...\n",
      "\n",
      "=== CARGANDO DATASET: ted_talks_en.csv ===\n"
     ]
    },
    {
     "name": "stdout",
     "output_type": "stream",
     "text": [
      "Dataset cargado: 4005 filas x 19 columnas\n",
      "\n",
      "Columnas disponibles:\n",
      " 1. talk_id\n",
      " 2. title\n",
      " 3. speaker_1\n",
      " 4. all_speakers\n",
      " 5. occupations\n",
      " 6. about_speakers\n",
      " 7. views\n",
      " 8. recorded_date\n",
      " 9. published_date\n",
      "10. event\n",
      "11. native_lang\n",
      "12. available_lang\n",
      "13. comments\n",
      "14. duration\n",
      "15. topics\n",
      "16. related_talks\n",
      "17. url\n",
      "18. description\n",
      "19. transcript\n",
      "Dataset cargado exitosamente\n",
      "Filas: 4,005\n",
      "Columnas: 19\n",
      "Memoria utilizada: 81.26 MB\n",
      "\n",
      "Columnas disponibles:\n",
      "  1. talk_id\n",
      "  2. title\n",
      "  3. speaker_1\n",
      "  4. all_speakers\n",
      "  5. occupations\n",
      "  6. about_speakers\n",
      "  7. views\n",
      "  8. recorded_date\n",
      "  9. published_date\n",
      "  10. event\n",
      "  11. native_lang\n",
      "  12. available_lang\n",
      "  13. comments\n",
      "  14. duration\n",
      "  15. topics\n",
      "  16. related_talks\n",
      "  17. url\n",
      "  18. description\n",
      "  19. transcript\n"
     ]
    }
   ],
   "source": [
    "# === CARGA DE DATOS ===\n",
    "\n",
    "print(\"Cargando dataset ted_talks_en.csv...\")\n",
    "\n",
    "# Cargar datos usando el metodo del analizador\n",
    "analyzer.load_data('ted_talks_en.csv')\n",
    "\n",
    "# Mostrar informacion basica\n",
    "if hasattr(analyzer, 'data') and analyzer.data is not None:\n",
    "    print(f\"Dataset cargado exitosamente\")\n",
    "    print(f\"Filas: {analyzer.data.shape[0]:,}\")\n",
    "    print(f\"Columnas: {analyzer.data.shape[1]}\")\n",
    "    print(f\"Memoria utilizada: {analyzer.data.memory_usage(deep=True).sum() / 1024**2:.2f} MB\")\n",
    "    \n",
    "    # Mostrar primeras columnas\n",
    "    print(\"\\nColumnas disponibles:\")\n",
    "    for i, col in enumerate(analyzer.data.columns):\n",
    "        print(f\"  {i+1}. {col}\")\n",
    "else:\n",
    "    print(\"ERROR: No se pudo cargar el dataset\")"
   ]
  },
  {
   "cell_type": "markdown",
   "metadata": {},
   "source": [
    "<div style=\"background-color: #fffacd; color: #000; padding: 20px; margin: 10px; border-left: 5px solid #f0c040; border-radius: 5px;\">\n",
    "\n",
    "## 4. Carga y Análisis Exploratorio del Dataset\n",
    "\n",
    "### Propósito\n",
    "Cargar el dataset `ted_talks_en.csv` y realizar una exploración inicial para entender la estructura, calidad y características de los datos. Este paso es fundamental para planificar estrategias de limpieza y procesamiento.\n",
    "\n",
    "### Características del Dataset TED Talks\n",
    "\n",
    "#### Información Esperada\n",
    "El dataset contiene información sobre charlas TED con las siguientes columnas principales:\n",
    "- **Identificadores:** ID, título, speaker\n",
    "- **Métricas de Popularidad:** views, ratings, comments\n",
    "- **Contenido Textual:** transcript (transcripción completa), description\n",
    "- **Metadatos:** date, duration, tags, related_talks\n",
    "\n",
    "#### Técnicas de Validación Aplicadas\n",
    "1. **Verificación de Integridad:** Confirmar que el archivo existe y es legible\n",
    "2. **Análisis de Dimensiones:** Número de filas y columnas\n",
    "3. **Evaluación de Memoria:** Calcular uso de memoria para optimizar procesamiento\n",
    "4. **Inspección de Tipos de Datos:** Identificar columnas numéricas, texto, fechas\n",
    "\n",
    "### Métricas de Calidad de Datos\n",
    "\n",
    "#### ¿Por qué es Importante la Exploración Inicial?\n",
    "- **Detectar Problemas Tempranos:** Valores faltantes, duplicados, inconsistencias\n",
    "- **Planificar Estrategias:** Decidir técnicas de limpieza apropiadas\n",
    "- **Estimar Recursos:** Calcular tiempo y memoria necesarios para procesamiento\n",
    "\n",
    "#### Información de Salida Clave\n",
    "- **Número de Registros:** Total de TED Talks disponibles\n",
    "- **Dimensionalidad:** Cantidad de características disponibles\n",
    "- **Uso de Memoria:** Para planificar operaciones eficientes\n",
    "- **Columnas Disponibles:** Lista completa de variables del dataset\n",
    "\n",
    "### Resultados Esperados\n",
    "-  Confirmación exitosa de carga del dataset\n",
    "-  Estadísticas básicas de dimensiones\n",
    "-  Información de uso de memoria\n",
    "-  Inventario completo de columnas disponibles\n",
    "\n",
    "### Relación con el Análisis Global\n",
    "Esta carga inicial alimentará todos los pasos subsecuentes. La calidad y completitud de este dataset determinará:\n",
    "- Qué técnicas de NLP pueden aplicarse\n",
    "- Cuántos datos tendremos para entrenamiento\n",
    "- Qué variables pueden usarse como predictores de popularidad\n",
    "\n",
    "</div>"
   ]
  },
  {
   "cell_type": "code",
   "execution_count": 5,
   "metadata": {
    "cell_id": "3502e50b80ca4a468e9a9a09f436fe09",
    "deepnote_cell_type": "code",
    "execution_context_id": "a52b3bcb-788a-4e41-aa52-adcf646dfc94",
    "execution_millis": 4925,
    "execution_start": 1754286262535,
    "source_hash": "1b81bd79"
   },
   "outputs": [
    {
     "name": "stdout",
     "output_type": "stream",
     "text": [
      "Aplicando limpieza profesional de datos...\n",
      "\n",
      "=== LIMPIANDO DATOS ===\n",
      "Iniciando: Iniciando limpieza\n",
      "Tiempo de inicio: 11:59:54\n",
      "==================================================\n",
      "[11:59:54] Dataset original: 4005 filas x 19 columnas\n",
      "[1/4] (25.0%) Eliminando outliers con método IQR...[1/4] (25.0%) Eliminando outliers con método IQR... OK\n",
      "Analizando distribución de 'views'...\n",
      "   - Q1 (25%): 882,069\n",
      "   - Q3 (75%): 2,133,110\n",
      "   - IQR: 1,251,041\n",
      "   - Límite inferior: -994,492\n",
      "   - Límite superior: 4,009,672\n",
      "   - Outliers identificados: 393 (9.81%)\n",
      "[11:59:54] Dataset después de eliminar outliers: 3612 filas\n",
      "[2/4] (50.0%) Limpiando datos textuales... OK\n",
      "Analizando distribución de 'views'...\n",
      "   - Q1 (25%): 882,069\n",
      "   - Q3 (75%): 2,133,110\n",
      "   - IQR: 1,251,041\n",
      "   - Límite inferior: -994,492\n",
      "   - Límite superior: 4,009,672\n",
      "   - Outliers identificados: 393 (9.81%)\n",
      "[11:59:54] Dataset después de eliminar outliers: 3612 filas\n",
      "[2/4] (50.0%) Limpiando datos textuales... OK\n",
      "[11:59:54] Procesando columna: title\n",
      " OK\n",
      "[11:59:54] Procesando columna: title\n",
      " - Valores vacíos: 0\n",
      " - Longitud promedio: 38.4 caracteres\n",
      "[11:59:54] Procesando columna: description\n",
      " - Valores vacíos: 0\n",
      " - Longitud promedio: 38.4 caracteres\n",
      "[11:59:54] Procesando columna: description\n",
      " - Valores vacíos: 0\n",
      " - Longitud promedio: 352.8 caracteres\n",
      "[11:59:55] Procesando columna: transcript\n",
      " - Valores vacíos: 0\n",
      " - Longitud promedio: 352.8 caracteres\n",
      "[11:59:55] Procesando columna: transcript\n",
      " - Valores vacíos: 0\n",
      " - Longitud promedio: 9870.6 caracteres\n",
      "[12:00:01] Procesadas 3 columnas de texto\n",
      "[3/4] (75.0%) Creando categorías de popularidad... - Valores vacíos: 0\n",
      " - Longitud promedio: 9870.6 caracteres\n",
      "[12:00:01] Procesadas 3 columnas de texto\n",
      "[3/4] (75.0%) Creando categorías de popularidad... OK\n",
      " Analizando distribución de popularidad...\n",
      "   Umbrales de popularidad:\n",
      "     - Bajo: hasta 695,206 views\n",
      "     - Medio Bajo: hasta 1,111,279 views\n",
      "     - Medio: hasta 1,470,199 views\n",
      "     - Medio Alto: hasta 1,994,938 views\n",
      "     - Alto: hasta 4,006,448 views\n",
      "\n",
      "   Distribución de categorías:\n",
      "     - Bajo: 723 (20.0%)\n",
      "     - Medio Bajo: 722 (20.0%)\n",
      "     - Medio: 722 (20.0%)\n",
      "     - Medio Alto: 722 (20.0%)\n",
      "     - Alto: 723 (20.0%)\n",
      "[4/4] (100.0%) Validando dataset limpio... OK\n",
      " Analizando distribución de popularidad...\n",
      "   Umbrales de popularidad:\n",
      "     - Bajo: hasta 695,206 views\n",
      "     - Medio Bajo: hasta 1,111,279 views\n",
      "     - Medio: hasta 1,470,199 views\n",
      "     - Medio Alto: hasta 1,994,938 views\n",
      "     - Alto: hasta 4,006,448 views\n",
      "\n",
      "   Distribución de categorías:\n",
      "     - Bajo: 723 (20.0%)\n",
      "     - Medio Bajo: 722 (20.0%)\n",
      "     - Medio: 722 (20.0%)\n",
      "     - Medio Alto: 722 (20.0%)\n",
      "     - Alto: 723 (20.0%)\n",
      "[4/4] (100.0%) Validando dataset limpio... OK\n",
      "[12:00:01] Dimensiones finales: 3612 filas x 24 columnas\n",
      "[12:00:01] Filas eliminadas: 393 (9.81%)\n",
      " OK\n",
      "[12:00:01] Dimensiones finales: 3612 filas x 24 columnas\n",
      "[12:00:01] Filas eliminadas: 393 (9.81%)\n",
      "[12:00:01] Puntuación de calidad: 7.85/10\n",
      "[12:00:01] Puntuación de calidad: 7.85/10\n",
      "\n",
      "==================================================\n",
      "Estado: Limpieza de datos completada\n",
      "Tiempo total: 7.1 segundos\n",
      "Finalizado: 12:00:01\n",
      "Tiempo promedio por paso: 1.8s\n",
      "\n",
      "==================================================\n",
      "Estado: Limpieza de datos completada\n",
      "Tiempo total: 7.1 segundos\n",
      "Finalizado: 12:00:01\n",
      "Tiempo promedio por paso: 1.8s\n",
      "Datos limpiados correctamente\n",
      "\n",
      "Resultados de la limpieza:\n",
      "  Filas originales: 4,005\n",
      "  Filas despues de limpieza: 3,612\n",
      "  Filas eliminadas: 393 (9.8%)\n",
      "\n",
      "Categorias de popularidad:\n",
      "  Bajo: 723 videos\n",
      "  Medio Bajo: 722 videos\n",
      "  Medio: 722 videos\n",
      "  Medio Alto: 722 videos\n",
      "  Alto: 723 videos\n",
      "Datos limpiados correctamente\n",
      "\n",
      "Resultados de la limpieza:\n",
      "  Filas originales: 4,005\n",
      "  Filas despues de limpieza: 3,612\n",
      "  Filas eliminadas: 393 (9.8%)\n",
      "\n",
      "Categorias de popularidad:\n",
      "  Bajo: 723 videos\n",
      "  Medio Bajo: 722 videos\n",
      "  Medio: 722 videos\n",
      "  Medio Alto: 722 videos\n",
      "  Alto: 723 videos\n"
     ]
    }
   ],
   "source": [
    "# === LIMPIEZA DE DATOS ===\n",
    "\n",
    "print(\"Aplicando limpieza profesional de datos...\")\n",
    "\n",
    "# Limpiar datos usando el metodo del analizador\n",
    "analyzer.clean_data()\n",
    "\n",
    "# Mostrar resultados de la limpieza\n",
    "if hasattr(analyzer, 'df_clean') and analyzer.df_clean is not None:\n",
    "    original_count = analyzer.data.shape[0]\n",
    "    clean_count = analyzer.df_clean.shape[0]\n",
    "    removed_count = original_count - clean_count\n",
    "    \n",
    "    print(f\"\\nResultados de la limpieza:\")\n",
    "    print(f\"  Filas originales: {original_count:,}\")\n",
    "    print(f\"  Filas despues de limpieza: {clean_count:,}\")\n",
    "    print(f\"  Filas eliminadas: {removed_count:,} ({removed_count/original_count*100:.1f}%)\")\n",
    "    \n",
    "    # Mostrar categorias de popularidad creadas\n",
    "    if 'popularity_category' in analyzer.df_clean.columns:\n",
    "        print(\"\\nCategorias de popularidad:\")\n",
    "        categories = analyzer.df_clean['popularity_category'].value_counts().sort_index()\n",
    "        for category, count in categories.items():\n",
    "            print(f\"  {category}: {count:,} videos\")\n",
    "            \n",
    "    # Mostrar calidad de datos\n",
    "    if 'df_cleaning' in analyzer.results:\n",
    "        quality_score = analyzer.results['df_cleaning']['quality_results']['quality_score']\n",
    "        print(f\"\\nPuntuacion de calidad de datos: {quality_score:.2f}/10\")\n",
    "else:\n",
    "    print(\"ERROR: No se pudo limpiar el dataset\")"
   ]
  },
  {
   "cell_type": "markdown",
   "metadata": {},
   "source": [
    "<div style=\"background-color: #fffacd; color: #000; padding: 20px; margin: 10px; border-left: 5px solid #f0c040; border-radius: 5px;\">\n",
    "\n",
    "## 5. Limpieza Profesional de Datos\n",
    "\n",
    "### Propósito\n",
    "Aplicar técnicas de limpieza de datos siguiendo estándares industriales similares a los usados por ingenieros en Amazon y Google. Esta fase es crítica porque datos de mala calidad producen modelos de baja calidad.\n",
    "\n",
    "### Técnicas de Limpieza Implementadas\n",
    "\n",
    "#### 1. Eliminación de Outliers Extremos\n",
    "- **Método IQR (Interquartile Range):** Identifica valores atípicos en la columna 'views'\n",
    "- **¿Por qué eliminar outliers?** Videos con views extremadamente altos (virales) o bajos (errores) pueden sesgar el modelo\n",
    "- **Cálculo:** Q1 - 1.5×IQR y Q3 + 1.5×IQR como límites\n",
    "\n",
    "#### 2. Manejo de Valores Faltantes\n",
    "- **Estrategia Adaptativa:** Diferentes técnicas según el tipo de columna\n",
    "- **Texto:** Imputación con \"Unknown\" o eliminación si es crítico\n",
    "- **Numérico:** Mediana para datos sesgados, media para distribuciones normales\n",
    "- **Categórico:** Moda o nueva categoría \"Missing\"\n",
    "\n",
    "#### 3. Normalización y Estandarización\n",
    "- **Limpieza de Texto:** Eliminación de caracteres especiales, normalización de encoding\n",
    "- **Fechas:** Conversión a formato estándar datetime\n",
    "- **Strings:** Normalización de mayúsculas/minúsculas\n",
    "\n",
    "### Creación de Variable Objetivo\n",
    "\n",
    "#### Categorización de Popularidad\n",
    "El sistema convierte la variable continua 'views' en categorías discretas:\n",
    "\n",
    "1. **\"bajo\":** Videos con pocas visualizaciones\n",
    "2. **\"medio bajo\":** Popularidad limitada\n",
    "3. **\"medio\":** Popularidad promedio\n",
    "4. **\"medio alto\":** Popular\n",
    "5. **\"alto\":** Muy popular\n",
    "\n",
    "#### ¿Por qué Categorizar en lugar de Regresión?\n",
    "- **Interpretabilidad:** Es más fácil entender \"popular vs no popular\"\n",
    "- **Robustez:** Menos sensible a outliers extremos\n",
    "- **Aplicabilidad:** Los stakeholders prefieren clasificaciones claras\n",
    "\n",
    "### Métricas de Calidad\n",
    "\n",
    "#### Puntuación de Calidad de Datos (Scale 1-10)\n",
    "El sistema calcula un score basado en:\n",
    "- **Completitud:** Porcentaje de valores no faltantes\n",
    "- **Consistencia:** Coherencia entre variables relacionadas\n",
    "- **Validez:** Valores dentro de rangos esperados\n",
    "- **Precisión:** Detección de errores evidentes\n",
    "\n",
    "### Resultados Esperados\n",
    "-  Reducción controlada del dataset (típicamente 5-15% de registros eliminados)\n",
    "-  5 categorías balanceadas de popularidad\n",
    "-  Score de calidad de datos > 7.0/10\n",
    "-  Dataset libre de valores faltantes críticos\n",
    "\n",
    "### Relación con el Análisis Global\n",
    "Esta limpieza determina directamente:\n",
    "- **Calidad del Modelo:** Datos limpios = modelos más precisos\n",
    "- **Representatividad:** Mantener diversidad mientras eliminamos ruido\n",
    "- **Eficiencia Computacional:** Menos datos irrelevantes = entrenamiento más rápido\n",
    "\n",
    "</div>"
   ]
  },
  {
   "cell_type": "code",
   "execution_count": 6,
   "metadata": {
    "cell_id": "a62b3e99d499449a8f1e5658cb1acfbb",
    "deepnote_cell_type": "code",
    "execution_context_id": "a52b3bcb-788a-4e41-aa52-adcf646dfc94",
    "execution_millis": 22370,
    "execution_start": 1754286327855,
    "source_hash": "7f506687"
   },
   "outputs": [
    {
     "name": "stdout",
     "output_type": "stream",
     "text": [
      "Aplicando tecnicas de extraccion de informacion...\n",
      "Procesando: sentimientos, entidades nombradas, caracteristicas textuales\n",
      "\n",
      "=== PROCESANDO CARACTERÍSTICAS NLP ===\n",
      "Iniciando: Iniciando extracción de características NLP\n",
      "Tiempo de inicio: 12:00:01\n",
      "==================================================\n",
      "[12:00:01] Procesando columna: transcript_clean\n",
      "[1/5] (20.0%) Cargando modelos de NLP...[1/5] (20.0%) Cargando modelos de NLP... OK\n",
      "[2/5] (40.0%) Preparando muestra de datos... OK\n",
      "[2/5] (40.0%) Preparando muestra de datos... OK\n",
      "[12:00:02] Procesando muestra de 1000 textos para velocidad...\n",
      "[3/5] (60.0%) Analizando sentimientos con TextBlob... OK\n",
      "[12:00:02] Procesando muestra de 1000 textos para velocidad...\n",
      "[3/5] (60.0%) Analizando sentimientos con TextBlob... OK\n",
      "[12:00:02] Analizando polaridad y subjetividad...\n",
      " OK\n",
      "[12:00:02] Analizando polaridad y subjetividad...\n"
     ]
    },
    {
     "data": {
      "application/vnd.jupyter.widget-view+json": {
       "model_id": "fb8b4a0acc5340f495a2303a4472d11e",
       "version_major": 2,
       "version_minor": 0
      },
      "text/plain": [
       "Sentimientos:   0%|          | 0/1000 [00:00<?, ?it/s]"
      ]
     },
     "metadata": {},
     "output_type": "display_data"
    },
    {
     "name": "stdout",
     "output_type": "stream",
     "text": [
      "[12:00:59] Análisis de sentimientos completado\n",
      "[4/5] (80.0%) Extrayendo características textuales...[4/5] (80.0%) Extrayendo características textuales... OK\n",
      "[12:00:59] Calculando longitud, palabras, oraciones...\n",
      " OK\n",
      "[12:00:59] Calculando longitud, palabras, oraciones...\n"
     ]
    },
    {
     "data": {
      "application/vnd.jupyter.widget-view+json": {
       "model_id": "4455d29809cc4b66a7b292222a10d8e1",
       "version_major": 2,
       "version_minor": 0
      },
      "text/plain": [
       "Características:   0%|          | 0/1000 [00:00<?, ?it/s]"
      ]
     },
     "metadata": {},
     "output_type": "display_data"
    },
    {
     "name": "stdout",
     "output_type": "stream",
     "text": [
      "[12:01:21] Características textuales extraídas\n",
      "[5/5] (100.0%) Identificando entidades nombradas...[5/5] (100.0%) Identificando entidades nombradas... OK\n",
      "Procesando 1000 textos para entidades nombradas...\n",
      " OK\n",
      "Procesando 1000 textos para entidades nombradas...\n"
     ]
    },
    {
     "data": {
      "application/vnd.jupyter.widget-view+json": {
       "model_id": "6ffec1783dd141b39a6d2a389a0aac08",
       "version_major": 2,
       "version_minor": 0
      },
      "text/plain": [
       "Entidades:   0%|          | 0/1000 [00:00<?, ?it/s]"
      ]
     },
     "metadata": {},
     "output_type": "display_data"
    },
    {
     "name": "stdout",
     "output_type": "stream",
     "text": [
      "[12:08:19] Entidades nombradas identificadas\n",
      "\n",
      "=== ESTADÍSTICAS DE CARACTERÍSTICAS ===\n",
      "Polaridad de sentimiento:\n",
      "  Media: 0.478\n",
      "  Rango: [-0.588, 0.786]\n",
      "Distribución de sentimientos:\n",
      "  muy_positivo: 913 (91.3%)\n",
      "  muy_negativo: 80 (8.0%)\n",
      "  negativo: 4 (0.4%)\n",
      "  positivo: 3 (0.3%)\n",
      "\n",
      "Características textuales promedio:\n",
      "  word_count: 1004.52\n",
      "  sentence_count: 143.94\n",
      "  avg_word_length: 5.99\n",
      "  unique_words: 517.55\n",
      "  lexical_diversity: 0.55\n",
      "  exclamation_count: 0.99\n",
      "  question_count: 10.70\n",
      "  uppercase_ratio: 0.00\n",
      "\n",
      "Entidades promedio por texto:\n",
      "  TEXT_WORD: 1004.52\n",
      "  TEXT_SENTENCE: 143.94\n",
      "  TEXT_EXCLAMATION: 0.99\n",
      "  TEXT_QUESTION: 10.70\n",
      "  PERSON: 0.00\n",
      "  ORG: 0.00\n",
      "  GPE: 0.00\n",
      "  MONEY: 0.00\n",
      "  DATE: 0.00\n",
      "  TIME: 0.00\n",
      "  PERCENT: 0.00\n",
      "  QUANTITY: 0.00\n",
      "\n",
      "==================================================\n",
      "Estado: Procesamiento NLP completado\n",
      "Tiempo total: 497.2 segundos\n",
      "Finalizado: 12:08:19\n",
      "Tiempo promedio por paso: 99.4s\n",
      "=== ANÁLISIS DE FRECUENCIA DE PALABRAS ===\n",
      "\n",
      "=== ESTADÍSTICAS DE CARACTERÍSTICAS ===\n",
      "Polaridad de sentimiento:\n",
      "  Media: 0.478\n",
      "  Rango: [-0.588, 0.786]\n",
      "Distribución de sentimientos:\n",
      "  muy_positivo: 913 (91.3%)\n",
      "  muy_negativo: 80 (8.0%)\n",
      "  negativo: 4 (0.4%)\n",
      "  positivo: 3 (0.3%)\n",
      "\n",
      "Características textuales promedio:\n",
      "  word_count: 1004.52\n",
      "  sentence_count: 143.94\n",
      "  avg_word_length: 5.99\n",
      "  unique_words: 517.55\n",
      "  lexical_diversity: 0.55\n",
      "  exclamation_count: 0.99\n",
      "  question_count: 10.70\n",
      "  uppercase_ratio: 0.00\n",
      "\n",
      "Entidades promedio por texto:\n",
      "  TEXT_WORD: 1004.52\n",
      "  TEXT_SENTENCE: 143.94\n",
      "  TEXT_EXCLAMATION: 0.99\n",
      "  TEXT_QUESTION: 10.70\n",
      "  PERSON: 0.00\n",
      "  ORG: 0.00\n",
      "  GPE: 0.00\n",
      "  MONEY: 0.00\n",
      "  DATE: 0.00\n",
      "  TIME: 0.00\n",
      "  PERCENT: 0.00\n",
      "  QUANTITY: 0.00\n",
      "\n",
      "==================================================\n",
      "Estado: Procesamiento NLP completado\n",
      "Tiempo total: 497.2 segundos\n",
      "Finalizado: 12:08:19\n",
      "Tiempo promedio por paso: 99.4s\n",
      "=== ANÁLISIS DE FRECUENCIA DE PALABRAS ===\n",
      "Top 20 palabras más frecuentes:\n",
      "  people: 7997\n",
      "  like: 7965\n",
      "  know: 6234\n",
      "  going: 6225\n",
      "  think: 5471\n",
      "  really: 5229\n",
      "  would: 4980\n",
      "  world: 4750\n",
      "  actually: 4429\n",
      "  time: 4331\n",
      "  things: 4262\n",
      "  laughter: 4178\n",
      "  years: 3944\n",
      "  want: 3651\n",
      "  could: 3593\n",
      "  make: 3565\n",
      "  well: 3529\n",
      "  something: 3278\n",
      "  first: 3157\n",
      "  little: 3138\n",
      "✓ Características NLP procesadas correctamente\n",
      "\n",
      "Extraccion de informacion completada\n",
      "Dataset procesado: (1000, 48)\n",
      "\n",
      "Caracteristicas NLP extraidas: 19\n",
      "Tipos de informacion extraida:\n",
      "  Analisis de sentimientos: 8 caracteristicas\n",
      "  Caracteristicas textuales: 8 caracteristicas\n",
      "  Entidades nombradas: 3 caracteristicas\n",
      "\n",
      "Muestra procesada: {'people': 7997, 'like': 7965, 'know': 6234, 'going': 6225, 'think': 5471, 'really': 5229, 'would': 4980, 'world': 4750, 'actually': 4429, 'time': 4331, 'things': 4262, 'laughter': 4178, 'years': 3944, 'want': 3651, 'could': 3593, 'make': 3565, 'well': 3529, 'something': 3278, 'first': 3157, 'little': 3138} registros\n",
      "Top 20 palabras más frecuentes:\n",
      "  people: 7997\n",
      "  like: 7965\n",
      "  know: 6234\n",
      "  going: 6225\n",
      "  think: 5471\n",
      "  really: 5229\n",
      "  would: 4980\n",
      "  world: 4750\n",
      "  actually: 4429\n",
      "  time: 4331\n",
      "  things: 4262\n",
      "  laughter: 4178\n",
      "  years: 3944\n",
      "  want: 3651\n",
      "  could: 3593\n",
      "  make: 3565\n",
      "  well: 3529\n",
      "  something: 3278\n",
      "  first: 3157\n",
      "  little: 3138\n",
      "✓ Características NLP procesadas correctamente\n",
      "\n",
      "Extraccion de informacion completada\n",
      "Dataset procesado: (1000, 48)\n",
      "\n",
      "Caracteristicas NLP extraidas: 19\n",
      "Tipos de informacion extraida:\n",
      "  Analisis de sentimientos: 8 caracteristicas\n",
      "  Caracteristicas textuales: 8 caracteristicas\n",
      "  Entidades nombradas: 3 caracteristicas\n",
      "\n",
      "Muestra procesada: {'people': 7997, 'like': 7965, 'know': 6234, 'going': 6225, 'think': 5471, 'really': 5229, 'would': 4980, 'world': 4750, 'actually': 4429, 'time': 4331, 'things': 4262, 'laughter': 4178, 'years': 3944, 'want': 3651, 'could': 3593, 'make': 3565, 'well': 3529, 'something': 3278, 'first': 3157, 'little': 3138} registros\n"
     ]
    }
   ],
   "source": [
    "# === EXTRACCION DE INFORMACION CON NLP ===\n",
    "\n",
    "print(\"Aplicando tecnicas de extraccion de informacion...\")\n",
    "print(\"Procesando: sentimientos, entidades nombradas, caracteristicas textuales\")\n",
    "\n",
    "# Procesar caracteristicas NLP usando el metodo del analizador\n",
    "analyzer.process_nlp_features(text_column='transcript_clean')\n",
    "\n",
    "# Mostrar caracteristicas extraidas\n",
    "# Fix: Check if 'df_processed' attribute exists before accessing it\n",
    "if hasattr(analyzer, 'df_processed') and analyzer.df_processed is not None:\n",
    "    print(f\"\\nExtraccion de informacion completada\")\n",
    "    print(f\"Dataset procesado: {analyzer.df_processed.shape}\")\n",
    "    \n",
    "    # Identificar caracteristicas NLP creadas\n",
    "    nlp_features = [col for col in analyzer.df_processed.columns if \n",
    "                   col.startswith(('sentiment_', 'text_', 'person_', 'org_', 'gpe_'))]\n",
    "    \n",
    "    print(f\"\\nCaracteristicas NLP extraidas: {len(nlp_features)}\")\n",
    "    print(\"Tipos de informacion extraida:\")\n",
    "    \n",
    "    # Agrupar por tipo\n",
    "    sentiment_features = [f for f in nlp_features if f.startswith('sentiment_')]\n",
    "    text_features = [f for f in nlp_features if f.startswith('text_')]\n",
    "    entity_features = [f for f in nlp_features if f.startswith(('person_', 'org_', 'gpe_'))]\n",
    "    \n",
    "    if sentiment_features:\n",
    "        print(f\"  Analisis de sentimientos: {len(sentiment_features)} caracteristicas\")\n",
    "    if text_features:\n",
    "        print(f\"  Caracteristicas textuales: {len(text_features)} caracteristicas\") \n",
    "    if entity_features:\n",
    "        print(f\"  Entidades nombradas: {len(entity_features)} caracteristicas\")\n",
    "        \n",
    "    # Mostrar estadisticas de muestra procesada\n",
    "    if 'nlp_processing' in analyzer.results:\n",
    "        word_frequencies = analyzer.results['nlp_processing']['word_frequencies']\n",
    "        print(f\"\\nMuestra procesada: {word_frequencies} registros\")\n",
    "else:\n",
    "    print(\"ERROR: No se pudo procesar las caracteristicas NLP\")"
   ]
  },
  {
   "cell_type": "markdown",
   "metadata": {},
   "source": [
    "<div style=\"background-color: #fffacd;color: #000; padding: 20px; margin: 10px; border-left: 5px solid #f0c040; border-radius: 5px;\">\n",
    "\n",
    "## 6. Extracción de Información mediante Técnicas Avanzadas de NLP\n",
    "\n",
    "### Propósito\n",
    "Aplicar técnicas state-of-the-art de procesamiento de lenguaje natural para extraer características significativas de las transcripciones de TED Talks. Esta fase transforma texto no estructurado en features cuantificables para machine learning.\n",
    "\n",
    "### Técnicas de NLP Implementadas\n",
    "\n",
    "#### 1. Named Entity Recognition (NER)\n",
    "- **Modelo:** spaCy `en_core_web_sm` con arquitectura transformer\n",
    "- **Entidades Extraídas:**\n",
    "  - **PERSON:** Nombres de personas mencionadas (expertos, autores, figuras históricas)\n",
    "  - **ORG:** Organizaciones (empresas, universidades, ONGs)\n",
    "  - **GPE:** Ubicaciones geopolíticas (países, ciudades)\n",
    "- **¿Por qué es importante?** Videos que mencionan muchas organizaciones prestigiosas tienden a ser más populares\n",
    "\n",
    "#### 2. Análisis de Sentimientos Multi-Dimensional\n",
    "- **VADER Sentiment:** Optimizado para texto de redes sociales y informal\n",
    "- **Características Extraídas:**\n",
    "  - **Polaridad:** Escala -1 (muy negativo) a +1 (muy positivo)\n",
    "  - **Subjetividad:** Escala 0 (objetivo/factual) a 1 (subjetivo/opinión)\n",
    "- **Hipótesis:** TED Talks con tono positivo pero contenido objetivo tienen mayor engagement\n",
    "\n",
    "#### 3. Características Textuales Avanzadas\n",
    "- **Longitud y Complejidad:**\n",
    "  - Número total de palabras\n",
    "  - Palabras únicas (vocabulario diverso)\n",
    "  - Promedio de palabras por oración\n",
    "- **Análisis Léxico:**\n",
    "  - Frecuencia de stopwords (indicador de fluidez)\n",
    "  - Densidad de contenido (palabras significativas vs funcionales)\n",
    "\n",
    "### Metodología de Procesamiento\n",
    "\n",
    "#### ¿Por qué usar spaCy en lugar de NLTK?\n",
    "- **Rendimiento:** 10x más rápido para NER en textos largos\n",
    "- **Precisión:** Modelos pre-entrenados en corpora masivos\n",
    "- **Escalabilidad:** Diseñado para procesamiento en producción\n",
    "\n",
    "#### Pipeline de Procesamiento de Texto\n",
    "1. **Limpieza:** Normalización de encoding, eliminación de HTML/XML\n",
    "2. **Tokenización:** División inteligente en palabras y oraciones\n",
    "3. **Lemmatización:** Reducción a formas base (running → run)\n",
    "4. **NER:** Identificación y clasificación de entidades\n",
    "5. **Sentimientos:** Análisis emocional del contenido\n",
    "\n",
    "### Optimizaciones de Rendimiento\n",
    "\n",
    "#### Procesamiento por Lotes\n",
    "- **Batch Processing:** Procesa múltiples textos simultáneamente\n",
    "- **Gestión de Memoria:** Liberación automática de memoria entre lotes\n",
    "- **Progreso en Tiempo Real:** Barra de progreso para monitorear avance\n",
    "\n",
    "#### Caché Inteligente\n",
    "Si los datos de entrada no han cambiado, el sistema reutiliza características previamente extraídas.\n",
    "\n",
    "### Resultados Esperados\n",
    "\n",
    "#### Nuevas Características Creadas\n",
    "- **Sentimientos:** `sentiment_polarity`, `sentiment_subjectivity`\n",
    "- **Entidades:** `person_count`, `org_count`, `gpe_count`\n",
    "- **Texto:** `text_length`, `text_unique_words`, `text_avg_sentence_length`\n",
    "\n",
    "#### Estadísticas Típicas\n",
    "- Videos procesan ~5-15 características NLP adicionales\n",
    "- Tiempo de procesamiento: ~2-5 minutos para 1000 videos\n",
    "- Incremento de dimensionalidad: +10-20 columnas\n",
    "\n",
    "### Relación con el Análisis Global\n",
    "\n",
    "#### Hipótesis a Validar\n",
    "1. **TED Talks que mencionan más organizaciones prestigiosas son más populares**\n",
    "2. **Contenido con tono positivo pero objetivo atrae más audiencia**\n",
    "3. **Transcripciones de longitud media tienen mejor engagement**\n",
    "4. **Diversidad de vocabulario correlaciona con popularidad**\n",
    "\n",
    "Estas características alimentarán directamente los modelos de machine learning para predecir popularidad.\n",
    "\n",
    "</div>"
   ]
  },
  {
   "cell_type": "code",
   "execution_count": 7,
   "metadata": {
    "ExecuteTime": {
     "end_time": "2025-08-03T07:03:25.803244Z",
     "start_time": "2025-08-03T07:03:25.143615Z"
    },
    "cell_id": "8c9511cdd7ca47c9988212864a9ff788",
    "deepnote_cell_type": "code",
    "execution_context_id": "a52b3bcb-788a-4e41-aa52-adcf646dfc94",
    "execution_millis": 38697,
    "execution_start": 1754286482018,
    "source_hash": "a6a134a7"
   },
   "outputs": [
    {
     "name": "stdout",
     "output_type": "stream",
     "text": [
      "Entrenando y comparando modelos de Machine Learning...\n",
      "Objetivo: F1-score > 0.78\n",
      "\n",
      "=== ENTRENANDO MODELOS DE MACHINE LEARNING ===\n",
      "=== INICIANDO PIPELINE DE MACHINE LEARNING ===\n",
      "=== PREPARANDO CARACTERÍSTICAS ===\n",
      "Características numéricas seleccionadas: 29\n",
      "  - views\n",
      "  - text_word_count\n",
      "  - text_sentence_count\n",
      "  - text_avg_word_length\n",
      "  - text_unique_words\n",
      "  - text_lexical_diversity\n",
      "  - text_exclamation_count\n",
      "  - text_question_count\n",
      "  - text_uppercase_ratio\n",
      "  - sentiment_polarity\n",
      "  - sentiment_subjectivity\n",
      "  - sentiment_label\n",
      "  - sentiment_vader_compound\n",
      "  - sentiment_vader_positive\n",
      "  - sentiment_vader_negative\n",
      "  - sentiment_vader_neutral\n",
      "  - sentiment_agreement\n",
      "  - text_word_count\n",
      "  - text_sentence_count\n",
      "  - text_exclamation_count\n",
      "  - text_question_count\n",
      "  - person_count\n",
      "  - org_count\n",
      "  - gpe_count\n",
      "  - money_count\n",
      "  - date_count\n",
      "  - time_count\n",
      "  - percent_count\n",
      "  - quantity_count\n",
      "\n",
      "Aplicando One-Hot Encoding a columnas categóricas:\n",
      "  - sentiment_label\n",
      "\n",
      "Creando características TF-IDF de transcript_clean...\n",
      "Matriz TF-IDF: 1000 muestras x 1000 características\n",
      "\n",
      "Matriz final de características: 1000 muestras x 1032 características\n",
      "Distribución del target:\n",
      "popularity_numeric\n",
      "0    164\n",
      "1    280\n",
      "2    150\n",
      "3    132\n",
      "4    274\n",
      "Name: count, dtype: int64\n",
      "\n",
      "=== DIVIDIENDO DATOS ===\n",
      "Tamaño del conjunto de prueba: 20.0%\n",
      "Conjunto de entrenamiento: 800 muestras\n",
      "Conjunto de prueba: 200 muestras\n",
      "Escaladas 32 características numéricas\n",
      "\n",
      "=== ENTRENANDO MODELOS ===\n",
      "\n",
      "Entrenando Random Forest...\n",
      "Matriz TF-IDF: 1000 muestras x 1000 características\n",
      "\n",
      "Matriz final de características: 1000 muestras x 1032 características\n",
      "Distribución del target:\n",
      "popularity_numeric\n",
      "0    164\n",
      "1    280\n",
      "2    150\n",
      "3    132\n",
      "4    274\n",
      "Name: count, dtype: int64\n",
      "\n",
      "=== DIVIDIENDO DATOS ===\n",
      "Tamaño del conjunto de prueba: 20.0%\n",
      "Conjunto de entrenamiento: 800 muestras\n",
      "Conjunto de prueba: 200 muestras\n",
      "Escaladas 32 características numéricas\n",
      "\n",
      "=== ENTRENANDO MODELOS ===\n",
      "\n",
      "Entrenando Random Forest...\n",
      "✓ Random Forest entrenado exitosamente\n",
      "✓ Random Forest entrenado exitosamente\n",
      "  - CV F1-score: 0.5063 (±0.0631)\n",
      "\n",
      "Entrenando Gradient Boosting...\n",
      "  - CV F1-score: 0.5063 (±0.0631)\n",
      "\n",
      "Entrenando Gradient Boosting...\n",
      "✓ Gradient Boosting entrenado exitosamente\n",
      "✓ Gradient Boosting entrenado exitosamente\n",
      "  - CV F1-score: 0.9962 (±0.0101)\n",
      "\n",
      "Entrenando Logistic Regression...\n",
      "  - CV F1-score: 0.9962 (±0.0101)\n",
      "\n",
      "Entrenando Logistic Regression...\n",
      "✓ Logistic Regression entrenado exitosamente\n",
      "✓ Logistic Regression entrenado exitosamente\n",
      "  - CV F1-score: 0.8544 (±0.0479)\n",
      "\n",
      "Entrenando SVM...\n",
      "  - CV F1-score: 0.8544 (±0.0479)\n",
      "\n",
      "Entrenando SVM...\n",
      "✓ SVM entrenado exitosamente\n",
      "✓ SVM entrenado exitosamente\n",
      "  - CV F1-score: 0.6778 (±0.0981)\n",
      "\n",
      "✓ 4 modelos entrenados exitosamente\n",
      "\n",
      "=== EVALUANDO MODELOS ===\n",
      "\n",
      "Evaluando Random Forest...\n",
      "  Accuracy: 0.6050\n",
      "  Precision: 0.5435\n",
      "  Recall: 0.6050\n",
      "  F1-score: 0.5138\n",
      "  AUC: 0.8668\n",
      "\n",
      "Evaluando Gradient Boosting...\n",
      "  Accuracy: 0.9950\n",
      "  Precision: 0.9951\n",
      "  Recall: 0.9950\n",
      "  F1-score: 0.9950\n",
      "  AUC: 0.9982\n",
      "\n",
      "Evaluando Logistic Regression...\n",
      "  Accuracy: 0.8600\n",
      "  Precision: 0.8608\n",
      "  Recall: 0.8600\n",
      "  F1-score: 0.8526\n",
      "  AUC: 0.9853\n",
      "\n",
      "Evaluando SVM...\n",
      "  - CV F1-score: 0.6778 (±0.0981)\n",
      "\n",
      "✓ 4 modelos entrenados exitosamente\n",
      "\n",
      "=== EVALUANDO MODELOS ===\n",
      "\n",
      "Evaluando Random Forest...\n",
      "  Accuracy: 0.6050\n",
      "  Precision: 0.5435\n",
      "  Recall: 0.6050\n",
      "  F1-score: 0.5138\n",
      "  AUC: 0.8668\n",
      "\n",
      "Evaluando Gradient Boosting...\n",
      "  Accuracy: 0.9950\n",
      "  Precision: 0.9951\n",
      "  Recall: 0.9950\n",
      "  F1-score: 0.9950\n",
      "  AUC: 0.9982\n",
      "\n",
      "Evaluando Logistic Regression...\n",
      "  Accuracy: 0.8600\n",
      "  Precision: 0.8608\n",
      "  Recall: 0.8600\n",
      "  F1-score: 0.8526\n",
      "  AUC: 0.9853\n",
      "\n",
      "Evaluando SVM...\n",
      "  Accuracy: 0.7600\n",
      "  Precision: 0.7676\n",
      "  Recall: 0.7600\n",
      "  F1-score: 0.7476\n",
      "  AUC: 0.9621\n",
      "  Accuracy: 0.7600\n",
      "  Precision: 0.7676\n",
      "  Recall: 0.7600\n",
      "  F1-score: 0.7476\n",
      "  AUC: 0.9621\n"
     ]
    },
    {
     "data": {
      "image/png": "[encoded data removed]",
      "text/plain": [
       "<Figure size 1200x600 with 1 Axes>"
      ]
     },
     "metadata": {},
     "output_type": "display_data"
    },
    {
     "data": {
      "image/png": "[encoded data removed]",
      "text/plain": [
       "<Figure size 1500x1000 with 8 Axes>"
      ]
     },
     "metadata": {},
     "output_type": "display_data"
    },
    {
     "name": "stdout",
     "output_type": "stream",
     "text": [
      "\n",
      "Mejor modelo según f1_score: Gradient Boosting\n",
      "Puntuación: 0.9950\n",
      "\n",
      "Mejor modelo según f1_score: Gradient Boosting\n",
      "Puntuación: 0.9950\n",
      "Resumen guardado en model_summary.txt\n",
      "\n",
      "✓ Pipeline de Machine Learning completado\n",
      "\n",
      "Mejor modelo según f1_score: Gradient Boosting\n",
      "Puntuación: 0.9950\n",
      "✓ Modelos entrenados correctamente\n",
      "\n",
      "RESULTADOS DE MODELOS:\n",
      "==================================================\n",
      "\n",
      "Random Forest:\n",
      "  Accuracy:  0.6050\n",
      "  Precision: 0.5435\n",
      "  Recall:    0.6050\n",
      "  F1-Score:  0.5138\n",
      "  Objetivo F1>0.78: NO\n",
      "\n",
      "Gradient Boosting:\n",
      "  Accuracy:  0.9950\n",
      "  Precision: 0.9951\n",
      "  Recall:    0.9950\n",
      "  F1-Score:  0.9950\n",
      "  Objetivo F1>0.78: SI\n",
      "\n",
      "Logistic Regression:\n",
      "  Accuracy:  0.8600\n",
      "  Precision: 0.8608\n",
      "  Recall:    0.8600\n",
      "  F1-Score:  0.8526\n",
      "  Objetivo F1>0.78: SI\n",
      "\n",
      "SVM:\n",
      "  Accuracy:  0.7600\n",
      "  Precision: 0.7676\n",
      "  Recall:    0.7600\n",
      "  F1-Score:  0.7476\n",
      "  Objetivo F1>0.78: NO\n",
      "\n",
      "MEJOR MODELO: Gradient Boosting\n",
      "F1-Score: 0.9950\n",
      "Objetivo cumplido! F1-Score > 0.78\n"
     ]
    }
   ],
   "source": [
    "# === ENTRENAMIENTO Y COMPARACION DE MODELOS ML ===\n",
    "\n",
    "print(\"Entrenando y comparando modelos de Machine Learning...\")\n",
    "print(\"Objetivo: F1-score > 0.78\")\n",
    "\n",
    "# Entrenar modelos usando el metodo del analizador\n",
    "analyzer.train_models(text_column='transcript_clean', target_column='popularity_numeric')\n",
    "\n",
    "# Mostrar resultados de los modelos\n",
    "if 'machine_learning' in analyzer.results:\n",
    "    # Check if 'evaluation_results' key exists before accessing it\n",
    "    if 'evaluation_results' in analyzer.results['machine_learning']:\n",
    "        ml_results = analyzer.results['machine_learning']['evaluation_results']\n",
    "        models_trained = analyzer.results['machine_learning']['models_trained']\n",
    "        \n",
    "        print(\"\\nRESULTADOS DE MODELOS:\")\n",
    "        print(\"=\" * 50)\n",
    "        \n",
    "        # Mostrar resultados de cada modelo\n",
    "        for model_name, results in ml_results.items():\n",
    "            if results is not None:\n",
    "                print(f\"\\n{model_name}:\")\n",
    "                print(f\"  Accuracy:  {results['accuracy']:.4f}\")\n",
    "                print(f\"  Precision: {results['precision']:.4f}\")\n",
    "                print(f\"  Recall:    {results['recall']:.4f}\")\n",
    "                print(f\"  F1-Score:  {results['f1_score']:.4f}\")\n",
    "                \n",
    "                # Verificar si cumple objetivo\n",
    "                objetivo_cumplido = \"SI\" if results['f1_score'] > 0.78 else \"NO\"\n",
    "                print(f\"  Objetivo F1>0.78: {objetivo_cumplido}\")\n",
    "        \n",
    "        # Identificar mejor modelo\n",
    "        best_model_name, best_model, best_score = analyzer.results['machine_learning']['best_model']\n",
    "        print(f\"\\nMEJOR MODELO: {best_model_name}\")\n",
    "        print(f\"F1-Score: {best_score:.4f}\")\n",
    "        \n",
    "        if best_score > 0.78:\n",
    "            print(\"Objetivo cumplido! F1-Score > 0.78\")\n",
    "        else:\n",
    "            print(\"Objetivo no cumplido. Considerar mas datos o mejores caracteristicas.\")\n",
    "            \n",
    "        # Guardar el mejor modelo para referencia\n",
    "        analyzer.best_model = best_model_name\n",
    "        analyzer.best_f1_score = best_score\n",
    "    else:\n",
    "        print(\"ERROR: 'evaluation_results' no estÃ¡ disponible en los resultados de machine_learning\")\n",
    "else:\n",
    "    print(\"ERROR: No se pudieron entrenar los modelos\")"
   ]
  },
  {
   "cell_type": "markdown",
   "metadata": {},
   "source": [
    "<div style=\"background-color: #fffacd; color: #000; padding: 20px; margin: 10px; border-left: 5px solid #f0c040; border-radius: 5px;\">\n",
    "\n",
    "## 7. Entrenamiento y Comparación de Modelos de Machine Learning\n",
    "\n",
    "### Propósito\n",
    "Entrenar múltiples algoritmos de machine learning para predecir la popularidad de TED Talks y seleccionar el mejor modelo basado en métricas de rendimiento. El objetivo es superar un F1-score de 0.78.\n",
    "\n",
    "### Algoritmos de Machine Learning Implementados\n",
    "\n",
    "#### 1. Random Forest Classifier\n",
    "- **Fortalezas:** Robusto a outliers, maneja características mixtas (texto + numérico)\n",
    "- **Hiperparámetros:** n_estimators=100, max_depth=10, random_state=42\n",
    "- **¿Por qué Random Forest?** Excelente para datos textuales con muchas características\n",
    "\n",
    "#### 2. Support Vector Machine (SVM)\n",
    "- **Kernel:** RBF (Radial Basis Function) para capturar relaciones no lineales\n",
    "- **Fortalezas:** Efectivo en espacios de alta dimensionalidad (típico en NLP)\n",
    "- **Hiperparámetros:** C=1.0, gamma='scale'\n",
    "\n",
    "#### 3. Gradient Boosting Classifier\n",
    "- **Implementación:** XGBoost para optimización avanzada\n",
    "- **Fortalezas:** Excelente rendimiento en competencias de datos\n",
    "- **Estrategia:** Boosting secuencial corrige errores de modelos previos\n",
    "\n",
    "### Metodología de Entrenamiento\n",
    "\n",
    "#### Preparación de Características\n",
    "1. **Vectorización TF-IDF:** Convierte texto en vectores numéricos\n",
    "   - **¿Qué es TF-IDF?** Term Frequency-Inverse Document Frequency\n",
    "   - **Configuración:** max_features=5000, stop_words='english'\n",
    "   - **Beneficio:** Resalta palabras importantes específicas de cada documento\n",
    "\n",
    "2. **Combinación de Features:**\n",
    "   - Características textuales (TF-IDF del transcript)\n",
    "   - Características NLP (sentimientos, entidades, métricas textuales)\n",
    "   - Características numéricas originales (duration, ratings)\n",
    "\n",
    "#### División de Datos\n",
    "- **Training Set:** 80% de los datos para entrenamiento\n",
    "- **Test Set:** 20% para evaluación final imparcial\n",
    "- **Estratificación:** Mantiene proporción de categorías de popularidad\n",
    "\n",
    "### Métricas de Evaluación\n",
    "\n",
    "#### ¿Por qué F1-Score como Métrica Principal?\n",
    "- **Balance:** Combina precisión y recall\n",
    "- **Manejo de Clases Desbalanceadas:** Más robusto que accuracy simple\n",
    "- **Interpretabilidad:** Fácil de entender para stakeholders\n",
    "\n",
    "#### Métricas Complementarias\n",
    "1. **Accuracy:** Porcentaje de predicciones correctas\n",
    "2. **Precision:** De las predicciones positivas, cuántas fueron correctas\n",
    "3. **Recall:** De los casos positivos reales, cuántos detectamos\n",
    "4. **F1-Score:** Media harmónica de precision y recall\n",
    "\n",
    "### Estrategia de Optimización\n",
    "\n",
    "#### Validación Cruzada\n",
    "- **K-Fold CV:** 5 pliegues para estimación robusta de rendimiento\n",
    "- **Grid Search:** Búsqueda sistemática de mejores hiperparámetros\n",
    "- **Estratificada:** Mantiene distribución de clases en cada fold\n",
    "\n",
    "#### Selección del Mejor Modelo\n",
    "1. Entrenar todos los algoritmos con los mismos datos\n",
    "2. Comparar F1-scores en validación cruzada\n",
    "3. Seleccionar el modelo con mejor rendimiento promedio\n",
    "4. Evaluación final en test set independiente\n",
    "\n",
    "### Resultados Esperados\n",
    "\n",
    "#### Benchmark de Rendimiento\n",
    "- **Meta Principal:** F1-Score > 0.78\n",
    "- **Accuracy Esperado:** > 0.75\n",
    "- **Tiempo de Entrenamiento:** 3-10 minutos dependiendo del tamaño de datos\n",
    "\n",
    "#### Análisis de Resultados\n",
    "Para cada modelo se reporta:\n",
    "- Métricas de rendimiento completas\n",
    "- Cumplimiento del objetivo F1 > 0.78\n",
    "- Identificación del mejor modelo overall\n",
    "\n",
    "### Relación con el Análisis Global\n",
    "\n",
    "#### Validación de Hipótesis\n",
    "Los resultados del modelo permitirán confirmar:\n",
    "- Qué características NLP son más predictivas de popularidad\n",
    "- Si las técnicas de extracción de información mejoran la predicción\n",
    "- Cuál combinación de algoritmo + características alcanza el mejor rendimiento\n",
    "\n",
    "#### Importancia de Características\n",
    "El mejor modelo revelará qué factores realmente determinan la popularidad de TED Talks.\n",
    "\n",
    "</div>"
   ]
  },
  {
   "cell_type": "code",
   "execution_count": 8,
   "metadata": {
    "ExecuteTime": {
     "end_time": "2025-08-02T20:23:05.092879Z",
     "start_time": "2025-08-02T20:23:05.090755Z"
    },
    "cell_id": "cc67a9ef556e4065b9f55820612dba5d",
    "deepnote_cell_type": "code",
    "execution_context_id": "a52b3bcb-788a-4e41-aa52-adcf646dfc94",
    "execution_millis": 0,
    "execution_start": 1754286520785,
    "source_hash": "176a87db"
   },
   "outputs": [
    {
     "name": "stdout",
     "output_type": "stream",
     "text": [
      "Generando metricas de rendimiento y visualizaciones...\n",
      "\n",
      "=== CREANDO VISUALIZACIONES ===\n",
      "=== ESTADÍSTICAS RESUMIDAS ===\n",
      "Total de videos: 3,612\n",
      "Promedio de views: 1,405,848\n",
      "Mediana de views: 1,282,447\n",
      "Desviación estándar: 826,167\n",
      "Longitud promedio de transcripción: 9871 caracteres\n",
      "Longitud promedio de título: 38.4 caracteres\n",
      "\n",
      "Distribución de categorías de popularidad:\n",
      "  Bajo: 723 (20.0%)\n",
      "  Medio Bajo: 722 (20.0%)\n",
      "  Medio: 722 (20.0%)\n",
      "  Medio Alto: 722 (20.0%)\n",
      "  Alto: 723 (20.0%)\n"
     ]
    },
    {
     "data": {
      "image/png": "[encoded data removed]",
      "text/plain": [
       "<Figure size 1600x1200 with 4 Axes>"
      ]
     },
     "metadata": {},
     "output_type": "display_data"
    },
    {
     "data": {
      "image/png": "[encoded data removed]",
      "text/plain": [
       "<Figure size 1600x1200 with 4 Axes>"
      ]
     },
     "metadata": {},
     "output_type": "display_data"
    },
    {
     "data": {
      "application/vnd.plotly.v1+json": {
       "config": {
        "plotlyServerURL": "https://plot.ly"
       },
       "data": [
        {
         "customdata": [
          [
           "averting the climate crisis"
          ],
          [
           "greening the ghetto"
          ],
          [
           "let s teach religion -- all religion -- in schools"
          ],
          [
           "a life of purpose"
          ],
          [
           "an 11-year-old s magical violin"
          ],
          [
           "chemical scum that dream of distant quasars"
          ],
          [
           "the real future of space exploration"
          ],
          [
           "how technology evolves"
          ],
          [
           "the accelerating power of technology"
          ],
          [
           "if i controlled the internet"
          ],
          [
           "the killer american diet that s sweeping the planet"
          ],
          [
           "is this our final century?"
          ],
          [
           "in praise of slowness"
          ],
          [
           "happiness by design"
          ],
          [
           "biomimicry s surprising lessons from nature s engineers"
          ],
          [
           "the story of life in photographs"
          ],
          [
           "visual illusions that show how we mis think"
          ],
          [
           "the gentle genius of bonobos"
          ],
          [
           "what separates us from chimpanzees?"
          ],
          [
           "the illusion of consciousness"
          ],
          [
           "the ghastly tragedy of the suburbs"
          ],
          [
           "we can be buddhas"
          ],
          [
           "new insights on poverty"
          ],
          [
           "inside the world s deepest caves"
          ],
          [
           "visualizing the wonder of a living cell"
          ],
          [
           "how i built a windmill"
          ],
          [
           "what our language habits reveal"
          ],
          [
           "the surprising decline in violence"
          ],
          [
           "this is saturn"
          ],
          [
           "laws that choke creativity"
          ],
          [
           "design and destiny"
          ],
          [
           "why aren t we more compassionate?"
          ],
          [
           "the life-long learner"
          ],
          [
           "the untouchable music of the theremin"
          ],
          [
           "the call to learn"
          ],
          [
           "new thinking on the climate crisis"
          ],
          [
           "where does creativity hide?"
          ],
          [
           "a thought experiment on the intelligence of crows"
          ],
          [
           "how the news distorts our worldview"
          ],
          [
           "on technology and faith"
          ],
          [
           "my year of living biblically"
          ],
          [
           "the math and magic of origami"
          ],
          [
           "a talking, squawking parrot"
          ],
          [
           "the moral roots of liberals and conservatives"
          ],
          [
           "remember to say thank you"
          ],
          [
           "lessons from past presidents"
          ],
          [
           "aliens, love -- where are they?"
          ],
          [
           "why do societies collapse?"
          ],
          [
           "tales of creativity and play"
          ],
          [
           "the design of the universe"
          ],
          [
           "the price of happiness"
          ],
          [
           "the next species of human"
          ],
          [
           "el sistema s top youth orchestra"
          ],
          [
           "my wish protect our oceans"
          ],
          [
           "play is more than just fun"
          ],
          [
           "cute, sexy, sweet, funny"
          ],
          [
           "our buggy moral code"
          ],
          [
           "how to grow fresh air"
          ],
          [
           "how bacteria talk"
          ],
          [
           "a theory of everything"
          ],
          [
           "smash fear, learn anything"
          ],
          [
           "a one-woman global village"
          ],
          [
           "the tribes we lead"
          ],
          [
           "don t eat the marshmallow!"
          ],
          [
           "happiness and its surprises"
          ],
          [
           "teach statistics before calculus!"
          ],
          [
           "exploring the mind of a killer"
          ],
          [
           "a demo of wireless electricity"
          ],
          [
           "how we read each other s minds"
          ],
          [
           "3 warp-speed architecture tales"
          ],
          [
           "how i harnessed the wind"
          ],
          [
           "the power of time off"
          ],
          [
           "new york -- before the city"
          ],
          [
           "life lessons from an ad man"
          ],
          [
           "lead like the great conductors"
          ],
          [
           "east vs. west -- the myths that mystify"
          ],
          [
           "asia s rise -- how and when"
          ],
          [
           "why nations should pursue soft power"
          ],
          [
           "how to make a splash in social media"
          ],
          [
           "the neurons that shaped civilization"
          ],
          [
           "weird, or just different?"
          ],
          [
           "the opportunity of adversity"
          ],
          [
           "before avatar ... a curious boy"
          ],
          [
           "in the internet age, dance evolves ..."
          ],
          [
           "how i fell in love with a fish"
          ],
          [
           "my seven species of robot -- and how we created them"
          ],
          [
           "the danger of science denial"
          ],
          [
           "lies, damned lies and statistics about tedtalks"
          ],
          [
           "math class needs a makeover"
          ],
          [
           "it s time for the talk"
          ],
          [
           "why i m a weekday vegetarian"
          ],
          [
           "the pattern behind self-deception"
          ],
          [
           "measuring what makes life worthwhile"
          ],
          [
           "a 3d atlas of the universe"
          ],
          [
           "global population growth, box by box"
          ],
          [
           "when ideas have sex"
          ],
          [
           "the politics of fiction"
          ],
          [
           "why the world needs wikileaks"
          ],
          [
           "a headset that reads your brainwaves"
          ],
          [
           "the art of choosing"
          ],
          [
           "a monkey economy as irrational as ours"
          ],
          [
           "the beauty of data visualization"
          ],
          [
           "the happy planet index"
          ],
          [
           "the child-driven education"
          ],
          [
           "our natural sleep cycle is nothing like what we do now"
          ],
          [
           "my web playroom"
          ],
          [
           "a darwinian theory of beauty"
          ],
          [
           "what s wrong with our food system"
          ],
          [
           "the walk from no to yes"
          ],
          [
           "a call to men"
          ],
          [
           "how to learn? from mistakes"
          ],
          [
           "let s talk parenting taboos"
          ],
          [
           "on reading the koran"
          ],
          [
           "the 3 a s of awesome"
          ],
          [
           "are we born to run?"
          ],
          [
           "using nature s genius in architecture"
          ],
          [
           "a whistleblower you haven t heard"
          ],
          [
           "the linguistic genius of babies"
          ],
          [
           "my wish use art to turn the world inside out"
          ],
          [
           "how state budgets are breaking us schools"
          ],
          [
           "printing a human kidney"
          ],
          [
           "the birth of a word"
          ],
          [
           "a life lesson from a volunteer firefighter"
          ],
          [
           "the magic washing machine"
          ],
          [
           "don t insist on english!"
          ],
          [
           "google s driverless car"
          ],
          [
           "listen, learn ... then lead"
          ],
          [
           "the greatest ted talk ever sold"
          ],
          [
           "looking past limits"
          ],
          [
           "the hidden beauty of pollination"
          ],
          [
           "animal tales from icy wonderlands"
          ],
          [
           "the mystery of chronic pain"
          ],
          [
           "building a dinosaur from a chicken"
          ],
          [
           "taking imagination seriously"
          ],
          [
           "different ways of knowing"
          ],
          [
           "a rosetta stone for a lost language"
          ],
          [
           "trial, error and the god complex"
          ],
          [
           "embracing otherness, embracing myself"
          ],
          [
           "the origins of pleasure"
          ],
          [
           "wireless data from every light bulb"
          ],
          [
           "the demise of guys?"
          ],
          [
           "what we learned from 5 million books"
          ],
          [
           "battling bad science"
          ],
          [
           "the generation that s remaking china"
          ],
          [
           "how economic inequality harms societies"
          ],
          [
           "the strange tale of the norden bombsight"
          ],
          [
           "the real reason for brains"
          ],
          [
           "the shared experience of absurdity"
          ],
          [
           "how to defend earth from asteroids"
          ],
          [
           "a garden in my apartment"
          ],
          [
           "living beyond limits"
          ],
          [
           "what we learn before we re born"
          ],
          [
           "don t regret regret"
          ],
          [
           "the quest to understand consciousness"
          ],
          [
           "the battle between your present and future self"
          ],
          [
           "how healthy living nearly killed me"
          ],
          [
           "life s third act"
          ],
          [
           "animations of unseeable biology"
          ],
          [
           "atheism 2.0"
          ],
          [
           "how to make choosing easier"
          ],
          [
           "why i chose a gun"
          ],
          [
           "the secret structure of great talks"
          ],
          [
           "where are the baby dinosaurs?"
          ],
          [
           "why videos go viral"
          ]
         ],
         "hovertemplate": "popularity_category=Alto<br>Cantidad de Palabras=%{x}<br>Views=%{y}<br>title_clean=%{customdata[0]}<extra></extra>",
         "legendgroup": "Alto",
         "marker": {
          "color": "#636efa",
          "symbol": "circle"
         },
         "mode": "markers",
         "name": "Alto",
         "orientation": "v",
         "showlegend": true,
         "type": "scatter",
         "x": {
          "bdata": "vAP2BVEGWAU2AaYEKwV6BWwHFgEVAfUEfQZZA8EFcwLpAqMDaAcVBUsFNAP7BP0ESQILAXgFogXDBCsEbwOBA6sFUgGUBJEFrwVAA/sAkAWeBNsERwKTBhQB0AbcBDgF/AcEBlYETAVTAP4EnwbKAUIFCgFfBYQFNgVoBf0EDwFrBLIAzAH1ArMFtgUeAWcEOAXtBQAERgQ4BLsFsgHJAt0A6gStBJABXQR1Bf8EjwHvA24B5ADMBV4FjQGpAjEF7QVsBZ4CRQbLB0kF3gQZBBMBkwTxA7QBlgUoA+4CggUwAj4FqAUBBT0BygK3Bb8CdgQ9BRsBkQJjAggBOARxBlEE2QCcBTwCyAM+AiICbgX0BOcCFAU6A3UBYwQ0BXwEegRABBgHqQNHBC0CGAKnBNQErQTDBP8BugLwAnYGpQRYAyMGGATwAQ==",
          "dtype": "i2"
         },
         "xaxis": "x",
         "y": {
          "bdata": "QMM1AIWmKAB8sjkASgI9ANHvMAAY+SYAWgwlABFwHwCvGSwArKYiAIYOKQAQ2SwAoI4uAFCPIQA17CQA1w4gANDEJQCBfyoALYcfAMK2PACT0x8AkKIfAB3UOQCj0yAAX/8hAKI5LgAuxiUAopYuAKwGLgCJ6iMACr4iAPGqIgBqsSAA+qsgAEWOMQADYSEANcExAJzPKADVfSEAV+MuAIe+LAA83SgA45QuALVFOABQKSYAGoIeAOuMIwDO0ycA3ngiACODIQCJfyEA6OU2ANq4KgAYAi8A9E0gAAqzNgB4JjYA8pw5AOZvKQB6JycAyqI5ABeaJQA5fiQAp7o2AJUcHwCbRigAnOgqAAdnIgBn0zIAW54nAB5PKgB14zQAdBQjADJdMgBEKTcAigUiAF0aIACKRSIApEsjABCEIgCB8jcAeO8lAB/kIQAbCz0ApJ4jAHtNIgBMHyEAxngmADz9KgCdAzkAcuMoAHK0KwDgOzEAO3keAEPmPACoWiUARNQiAE+aKQBP0ykAqJ03ADNXIgBMFzIAbpUiAPelLwCIIC8AEUMhAMRGJgAZTCQAURklAClyLgBSRSIArWAlAFegIgC7SjEAnII6AA02HwCmsSgAxUk1AKxwMQC8uB8AKWQvADghKwDClDAAJAouAN4VIQD7JzEA05cuAFCYJQDxGyQAa6YjAIRhJQBf3h4AYDU0AP0NIwB1myIAy1cgAOdjHwConS4Aw8QgAB+hKQBxzyUAynUfAPHPKQAHdh8A/4ExAGf9IAA2nB4Au1owAEo6JAC4ziUAQD0fAGK8JgBwJiMAUsQgAOEXJwCJyR4Aa50pAM18KQApUiwA/1QqACeXOQDu+SUAzW8oAD8ELgA=",
          "dtype": "i4"
         },
         "yaxis": "y"
        },
        {
         "customdata": [
          [
           "simplicity sells"
          ],
          [
           "improvising on piano, aged 14"
          ],
          [
           "simple designs to save a life"
          ],
          [
           "global priorities bigger than climate change"
          ],
          [
           "progress is not a zero-sum game"
          ],
          [
           "the era of open innovation"
          ],
          [
           "my wish let my photographs bear witness"
          ],
          [
           "my wish build the encyclopedia of life"
          ],
          [
           "the shrimp with a kick!"
          ],
          [
           "how we discovered dna"
          ],
          [
           "the route to a sustainable future"
          ],
          [
           "cradle to cradle design"
          ],
          [
           "the electricity metaphor for the web s future"
          ],
          [
           "the genesis of google"
          ],
          [
           "how brain science will change computing"
          ],
          [
           "rethink the desktop with bumptop"
          ],
          [
           "dangerous memes"
          ],
          [
           "the potential of regenerative medicine"
          ],
          [
           "how to educate leaders? liberal arts"
          ],
          [
           "luke, a new prosthetic arm for soldiers"
          ],
          [
           "designing for simplicity"
          ],
          [
           "10 ways the world could end"
          ],
          [
           "my magic moves"
          ],
          [
           "life at 30,000 feet"
          ],
          [
           "how electroshock therapy changed me"
          ],
          [
           "the fractals at the heart of african designs"
          ],
          [
           "a plant s-eye view"
          ],
          [
           "my wish once upon a school"
          ],
          [
           "my wish the charter for compassion"
          ],
          [
           "a look inside the brain in real time"
          ],
          [
           "the astonishing hidden world of the deep ocean"
          ],
          [
           "the bottom billion"
          ],
          [
           "the worldwide web of belief and ritual"
          ],
          [
           "turning powerful stats into art"
          ],
          [
           "your genes are not your fate"
          ],
          [
           "the next 5,000 days of the web"
          ],
          [
           "shedding light on dark matter"
          ],
          [
           "kids can teach themselves"
          ],
          [
           "what s wrong with school lunches"
          ],
          [
           "an 8-dimensional model of the universe"
          ],
          [
           "healing through diet"
          ],
          [
           "a story of mixed emoticons"
          ],
          [
           "tidying up art"
          ],
          [
           "a foie gras parable"
          ],
          [
           "the hunt for general tso"
          ],
          [
           "fiddling in reel time"
          ],
          [
           "toy tiles that talk to each other"
          ],
          [
           "3 ways good design makes you happy"
          ],
          [
           "the next web"
          ],
          [
           "my obsession with objects and the stories they tell"
          ],
          [
           "the jungle search for viruses"
          ],
          [
           "extreme wingsuit flying"
          ],
          [
           "military robots and the future of war"
          ],
          [
           "the beautiful math of coral"
          ],
          [
           "growing evidence of brain plasticity"
          ],
          [
           "a full-band beatbox"
          ],
          [
           "how social media can make history"
          ],
          [
           "the psychology of time"
          ],
          [
           "let my dataset change your mindset"
          ],
          [
           "photographs of secret sites"
          ],
          [
           "mapping the future of countries"
          ],
          [
           "designers -- think big!"
          ],
          [
           "tribal leadership"
          ],
          [
           "a brain in a supercomputer"
          ],
          [
           "the 4 ways sound affects us"
          ],
          [
           "exposing the invisible"
          ],
          [
           "kids, take charge"
          ],
          [
           "growing new organs"
          ],
          [
           "embrace your inner girl"
          ],
          [
           "augmented-reality maps"
          ],
          [
           "sex, drugs and hiv -- let s get rational"
          ],
          [
           "computing a theory of all knowledge"
          ],
          [
           "the hidden influence of social networks"
          ],
          [
           "pointing to the future of ui"
          ],
          [
           "the ocean s glory -- and horror"
          ],
          [
           "the case for anonymity online"
          ],
          [
           "why we need the explorers"
          ],
          [
           "debate does the world need nuclear energy?"
          ],
          [
           "how architecture helped music evolve"
          ],
          [
           "let s raise kids to be entrepreneurs"
          ],
          [
           "don t build your home, grow it!"
          ],
          [
           "what physics taught me about marketing"
          ],
          [
           "the world s oldest living things"
          ],
          [
           "how web video powers global innovation"
          ],
          [
           "shh! sound health in 8 steps"
          ],
          [
           "poverty, money -- and love"
          ],
          [
           "the brain in your gut"
          ],
          [
           "america s native prisoners of war"
          ],
          [
           "teaching kids real math with computers"
          ],
          [
           "why not eat insects?"
          ],
          [
           "we are all cyborgs now"
          ],
          [
           "take the other to lunch"
          ],
          [
           "social media and the end of gender"
          ],
          [
           "it s time to question bio-engineering"
          ],
          [
           "human exoskeletons -- for war and healing"
          ],
          [
           "cracking stuxnet, a 21st-century cyber weapon"
          ],
          [
           "the genius puppetry behind war horse"
          ],
          [
           "the antidote to apathy"
          ],
          [
           "open-sourced blueprints for civilization"
          ],
          [
           "a radical experiment in empathy"
          ],
          [
           "teaching with the world peace game"
          ],
          [
           "a next-generation digital book"
          ],
          [
           "turning trash into toys for learning"
          ],
          [
           "grow your own clothes"
          ],
          [
           "distant time and the hint of a multiverse"
          ],
          [
           "building the seed cathedral"
          ],
          [
           "the weird, wonderful world of bioluminescence"
          ],
          [
           "visualizing ourselves ... with crowd-sourced data"
          ],
          [
           "7 rules for making more happiness"
          ],
          [
           "making sense of a visible quantum object"
          ],
          [
           "break the silence for suicide attempt survivors"
          ],
          [
           "how i became 100 artists"
          ],
          [
           "on being just crazy enough"
          ],
          [
           "cooking as never seen before"
          ],
          [
           "fighting viruses, defending the net"
          ],
          [
           "the surprising math of cities and corporations"
          ],
          [
           "how language transformed humanity"
          ],
          [
           "suddenly, my body"
          ],
          [
           "dna clues to our inner neanderthal"
          ],
          [
           "compassion and the true meaning of empathy"
          ],
          [
           "the 6 killer apps of prosperity"
          ],
          [
           "doodlers, unite!"
          ],
          [
           "a doctor s touch"
          ],
          [
           "my mushroom burial suit"
          ],
          [
           "trust, morality -- and oxytocin?"
          ],
          [
           "massive-scale online collaboration"
          ],
          [
           "why sopa is a bad idea"
          ],
          [
           "a primer on 3d printing"
          ],
          [
           "doctors make mistakes. can we talk about that?"
          ],
          [
           "saving for tomorrow, tomorrow"
          ],
          [
           "abundance is our future"
          ],
          [
           "why i must speak out about climate change"
          ]
         ],
         "hovertemplate": "popularity_category=Medio Alto<br>Cantidad de Palabras=%{x}<br>Views=%{y}<br>title_clean=%{customdata[0]}<extra></extra>",
         "legendgroup": "Medio Alto",
         "marker": {
          "color": "#EF553B",
          "symbol": "circle"
         },
         "mode": "markers",
         "name": "Medio Alto",
         "orientation": "v",
         "showlegend": true,
         "type": "scatter",
         "x": {
          "bdata": "KgbdAVEEyQVuBZcF5QV0BC0FGgX9BU8GDgWnBS0HdgE4A70FsANSAZIFtAgDAMQIsgV/Bd8ExgfQBCsBzgXaA1kG2QIaAWoF1QQ7BfUFzgZwBpkA8ANsBYsFqQMQAtwDOQVMBf0DCgKkBdYEIge/ALQE5gGNBeUEFQbRBF0FfwMGAowDWAJUBbQF/QGyBT8G3wWNBC0GEAMuBe4GHwRuB9EAKQIZBCkFbAJZBtADUQQUBTYEiAJcAmYCJgUuAcoCmQNAAv4AlQTQBRkBsgTdAWcFOgQvA1UGYQJJAuQAwQQMASgDlgSABLMFUAOiBLQCdwWrAVMFDwLZBL4FAATdA3YFowSbBLsE",
          "dtype": "i2"
         },
         "xaxis": "x",
         "y": {
          "bdata": "QE8dAI2/GwAWUBoAwwkaAK8eGwATaRoA4UQZAMaGGAAqjxkALU8dAIqmGgBs8RwATxcaAGP2GwBbrxkAGa8ZAG0DHgACwhoAWBwbADe6HADMOhcA+58dANiBHQB//RwAel8eAJaxGgD5NBsANbwYALadGwCmnR0AhikZAOrbFgACfhwAMXYdAKyGGgB68RoA9ZgYANFuGwCEgxcA6wgeAKI8FwB6JB0AN24XAK5sFwBwjhcALeQWAKW+HQBw2BwA7zEZAP6jHQA6+RkAfk4cALdgGgAHlBYAksQWAOgwHQCvQB0ADqEbAIIHHABBHRsAc60XAA3HGwB6AxoAq4oWAMhtHgAkzh0AqywZAGpTHQCZkRYAZWEcAHX7FgAx8BsAXuAZAOraHACV2BgAW8UaAG69HQDDURgAcr0ZAHMMHAD8CxkAhFIYACAmGgDUShsAdwcaANN4FwBnLBoAvyQaADawGgB4TRgAtpkcAK2MFgDo4RYAe2wXAGWJFgAKEhgA/jAeAM6HHACFOBwAfEEbAKPsFwCidRoACGIaAC9lFwDKORsAmxUbALheFwDolxoAE5QcADW+FgCtIh0AabcYAIZiHAAjpRgAqFIcALg8GABzThoAmWkXALd4FwDV5hsADAQbAGRNFwCoexoAuCUaAGKzGgC/rBoAmysYAAtYGwCjbRgA3xQbAIeVGQCJnBcA",
          "dtype": "i4"
         },
         "yaxis": "y"
        },
        {
         "customdata": [
          [
           "behind the design of seattle s library"
          ],
          [
           "my wish help me stop pandemics"
          ],
          [
           "my wish a call for open-source architecture"
          ],
          [
           "organic design, inspired by nature"
          ],
          [
           "the birth of wikipedia"
          ],
          [
           "the birth of the open-source learning revolution"
          ],
          [
           "happiness in body and soul"
          ],
          [
           "meet the future of cancer research"
          ],
          [
           "my wish manufactured landscapes and green education"
          ],
          [
           "how juries are fooled by statistics"
          ],
          [
           "four american characters"
          ],
          [
           "art with wire, sugar, chocolate and string"
          ],
          [
           "swim with the giant sunfish"
          ],
          [
           "salvation and profit in greentech"
          ],
          [
           "want to help africa? do business here"
          ],
          [
           "let s rethink america s military strategy"
          ],
          [
           "the web s secret stories"
          ],
          [
           "spore, birth of a game"
          ],
          [
           "patient capitalism"
          ],
          [
           "the joy of lexicography"
          ],
          [
           "aid for africa? no thanks."
          ],
          [
           "the search for humanity s roots"
          ],
          [
           "building self-aware robots"
          ],
          [
           "a critical look at geoengineering against climate change"
          ],
          [
           "using biology to rethink the energy challenge"
          ],
          [
           "beauty, truth and ... physics?"
          ],
          [
           "the emergent genius of ant colonies"
          ],
          [
           "the new power of collaboration"
          ],
          [
           "a preview of the worldwide telescope"
          ],
          [
           "on the verge of creating synthetic life"
          ],
          [
           "the search for the true face of leonardo"
          ],
          [
           "designing objects that tell stories"
          ],
          [
           "the story of a girl"
          ],
          [
           "what happens when you lose everything"
          ],
          [
           "institutions vs. collaboration"
          ],
          [
           "mother of pearl, if i had you"
          ],
          [
           "how photography connects us"
          ],
          [
           "dog-friendly dog training"
          ],
          [
           "what we think we know"
          ],
          [
           "life in the deep oceans"
          ],
          [
           "what security means to me"
          ],
          [
           "how to pitch to a vc"
          ],
          [
           "human nature and the blank slate"
          ],
          [
           "are games better than life?"
          ],
          [
           "the visual magic of comics"
          ],
          [
           "what consumers want"
          ],
          [
           "hypersonic sound and other inventions"
          ],
          [
           "a theory of earth s mass extinctions"
          ],
          [
           "changing my legs - and my mindset"
          ],
          [
           "the el sistema music revolution"
          ],
          [
           "join the seti search"
          ],
          [
           "seas of plastic"
          ],
          [
           "the voices of twitter users"
          ],
          [
           "an escape from poverty"
          ],
          [
           "can design save newspapers?"
          ],
          [
           "our antisocial phone tricks"
          ],
          [
           "a new ecosystem for electric cars"
          ],
          [
           "what went wrong at the lhc"
          ],
          [
           "anti-gravity sculpture"
          ],
          [
           "insights on hiv, in stunning data visuals"
          ],
          [
           "a passionate, personal case for education"
          ],
          [
           "playing pink noise on guitar"
          ],
          [
           "how cults rewire the brain"
          ],
          [
           "life lessons through tinkering"
          ],
          [
           "3 ways the brain creates meaning"
          ],
          [
           "skin color is an illusion"
          ],
          [
           "i believe we evolved from aquatic apes"
          ],
          [
           "biomimicry in action"
          ],
          [
           "an inventory of the invisible"
          ],
          [
           "how food shapes our cities"
          ],
          [
           "navigating our global future"
          ],
          [
           "a new way to explain explanation"
          ],
          [
           "architecture that repairs itself?"
          ],
          [
           "the year i was homeless"
          ],
          [
           "symmetry, reality s riddle"
          ],
          [
           "how the internet enables intimacy"
          ],
          [
           "learning from leadership s missing manual"
          ],
          [
           "the ancient ingenuity of water harvesting"
          ],
          [
           "a one-man world summit"
          ],
          [
           "all things are moleeds"
          ],
          [
           "the magic of the placebo"
          ],
          [
           "teaching one child at a time"
          ],
          [
           "photos that changed the world"
          ],
          [
           "social experiments to fight poverty"
          ],
          [
           "watch me unveil synthetic life"
          ],
          [
           "lessons from fashion s free culture"
          ],
          [
           "inside a school for suicide bombers"
          ],
          [
           "how to engineer a viral music video"
          ],
          [
           "the lost art of democratic debate"
          ],
          [
           "sweat the small stuff"
          ],
          [
           "lego for grownups"
          ],
          [
           "fractals and the art of roughness"
          ],
          [
           "how we found hundreds of potential earth-like planets"
          ],
          [
           "my mind-shifting everest swim"
          ],
          [
           "our century s greatest injustice"
          ],
          [
           "the axis of evil middle east comedy tour"
          ],
          [
           "let the environment guide our development"
          ],
          [
           "how pig parts make the world turn"
          ],
          [
           "i am my connectome"
          ],
          [
           "how mr. condom made thailand a better place for life and love"
          ],
          [
           "are mushrooms the new plastic?"
          ],
          [
           "the roots of plant intelligence"
          ],
          [
           "what nonprofits can learn from coca-cola"
          ],
          [
           "global power shifts"
          ],
          [
           "7 ways games reward the brain"
          ],
          [
           "a one-man orchestra of the imagination"
          ],
          [
           "simplifying complexity"
          ],
          [
           "my green school dream"
          ],
          [
           "creative houses from reclaimed stuff"
          ],
          [
           "a police chief with a difference"
          ],
          [
           "the case for collaborative consumption"
          ],
          [
           "3 stories of local eco-entrepreneurship"
          ],
          [
           "using our practical wisdom"
          ],
          [
           "your brain on improv"
          ],
          [
           "how i built a toaster -- from scratch"
          ],
          [
           "gaming to re-engage boys in learning"
          ],
          [
           "drawing on humor for change"
          ],
          [
           "the rise of personal robots"
          ],
          [
           "inside the egyptian revolution"
          ],
          [
           "this isn t her mother s feminism"
          ],
          [
           "the social animal"
          ],
          [
           "the sound the universe makes"
          ],
          [
           "remaking my voice"
          ],
          [
           "are we ready for neo-evolution?"
          ],
          [
           "my friend richard feynman"
          ],
          [
           "faith versus tradition in islam"
          ],
          [
           "wearing nothing new"
          ],
          [
           "is anatomy destiny?"
          ],
          [
           "haunting photos of polar ice"
          ],
          [
           "after your final status update"
          ],
          [
           "finding planets around other stars"
          ],
          [
           "beware conflicts of interest"
          ],
          [
           "hire the hackers!"
          ],
          [
           "we can recycle plastic"
          ],
          [
           "how beauty feels"
          ],
          [
           "freeing energy from the grid"
          ],
          [
           "augmented reality, techno-magic"
          ],
          [
           "a map of the brain"
          ],
          [
           "the technology of storytelling"
          ],
          [
           "philosophy in prison"
          ],
          [
           "how many lives can you live?"
          ],
          [
           "color-coded surgery"
          ],
          [
           "the global power shift"
          ],
          [
           "is there a real you?"
          ],
          [
           "hooked by an octopus"
          ],
          [
           "how your brain tells you where you are"
          ],
          [
           "2600 years of history in one object"
          ],
          [
           "my immigration story"
          ],
          [
           "all your devices can be hacked"
          ],
          [
           "the earth is full"
          ]
         ],
         "hovertemplate": "popularity_category=Medio<br>Cantidad de Palabras=%{x}<br>Views=%{y}<br>title_clean=%{customdata[0]}<extra></extra>",
         "legendgroup": "Medio",
         "marker": {
          "color": "#00cc96",
          "symbol": "circle"
         },
         "mode": "markers",
         "name": "Medio",
         "orientation": "v",
         "showlegend": true,
         "type": "scatter",
         "x": {
          "bdata": "zwXcBkMG5wVwBqgFVAYqBQoJ3gZTBgMEnwTKBMIEHwfSBewF3wW5BJwEQQS6AZgF+wQnBEEGtwTCARwEFAFTBH4IHgE9BtIAbQSWBNUD0gQWBE0FggbyBUUFCwQWBCwGvgU6A9UEMgKNAk8CogEJAdgF/AC/AqoClwJrAFUByQDlAXIDAwRNBPQC6QQqAn8DIQLXAcwF5wIuBMsDgwQsBX8CtwO8ASQFsASPBOABnALGBEAEegFBBK4EpwIlBb8CzgWqAtwEVQQaAzkDqwSyBDwFagE9ATADGgWgAqQEqQUdBsoElwLGA5QBzwSiAjUDvQV8BfYEGwTsAxcFVAEUBrgAuAFAAcUBcQSdAwwFngKIAIYE4wAcAdMDRQSTBUoDrAUJAxcFFQNjBSsE",
          "dtype": "i2"
         },
         "xaxis": "x",
         "y": {
          "bdata": "Sm8SAJFOEwCudxQA42sTAAIxFQCtXBEAgUkUADBrEQD92xMAH6cTADyGEgA0BRUAV/MUACV6EQAn4RQANWsUADetEQBPVhQACB8VAGiYEwC4FxMADzIRAItdFgAx5BQAshgVAMnRFQAACBIASzgSANdgEQC+VBIAb5kUACWDEwBb6xQAsuIRAGxNFACUOhUASeIUANyzEgACexEA7TgRAF1EEwD1JhQAG2kWACHvEwCTnRIAhiASAG3xFAB3UhEA1bgTAJIAEQCDExYATgEVAKNnEwB+RhQAn4IRAMboFAD10xMA8eUVAP75EwC9LxIAyFcTAGRCEgDZKxMAON0TAGKMEgDkaRMAO94VAM/+FQCy3xIA6RETADxrEgBLuhMAeK4UABGeEwBDxBEATHIVAM/qEgCvIhIAj24SAGdsEQBQjhIAr8ERANPHFAByIRQA8N8TAI82EwBpaRIAJ6gRAAHOFQAw8BIAVZYSAMFGFgC7mhMAqG0SAO1VEgAvLBIAWVQVAPbuEwA2ZhEAResRAE9REwDggBQAyfQVAN/eEQAEwxMAH/AVAL/9FAATuhEAFzAUAEW5FQAYyBQAocETAFyDEQAfshQArlMWAGKWEwAa/hUAiG8SAD4gEQAAHxEAlv4UAAWjEwAncBMAOfcQAKlCEwBfOxMAKk8WAH+yEgDC2xEAFJsTAM4QEwDKwhMASBEWAEENEgBfMBEAtBESAOTbEQAciRMA/8wUAJjaFQB2BxUASrgSAFpqEQBypRUAhq8RAAZlFgC/3hEAJf4TAMxAEwBrARYA",
          "dtype": "i4"
         },
         "yaxis": "y"
        },
        {
         "customdata": [
          [
           "my wish a global day of film"
          ],
          [
           "one laptop per child"
          ],
          [
           "meet the founder of the blog revolution"
          ],
          [
           "how mobile phones can fight poverty"
          ],
          [
           "why we should invest in a free press"
          ],
          [
           "my wish three unusual medical inventions"
          ],
          [
           "everyday inventions"
          ],
          [
           "software as art"
          ],
          [
           "singing what i want"
          ],
          [
           "sampling the ocean s dna"
          ],
          [
           "casting a spell on the cello"
          ],
          [
           "what you ve got"
          ],
          [
           "kiteflyer s hill"
          ],
          [
           "a comic sendup of ted2006"
          ],
          [
           "la vie en rose"
          ],
          [
           "why would god create a tsunami?"
          ],
          [
           "black men ski"
          ],
          [
           "a memorial at ground zero"
          ],
          [
           "tour microsoft s virtual earth"
          ],
          [
           "how to get a new hip"
          ],
          [
           "aid versus trade"
          ],
          [
           "why invest in africa"
          ],
          [
           "thula mama"
          ],
          [
           "an iraq war movie crowd-sourced from soldiers"
          ],
          [
           "playing with dna that self-assembles"
          ],
          [
           "the case for optimism"
          ],
          [
           "treat design as art"
          ],
          [
           "tembererana"
          ],
          [
           "the music wars"
          ],
          [
           "ted s nonprofit transition"
          ],
          [
           "the idea behind zipcar and what comes next"
          ],
          [
           "building uniqueness"
          ],
          [
           "the jill and julia show"
          ],
          [
           "a parable for kenya"
          ],
          [
           "model rocketry"
          ],
          [
           "my wish find the next einstein in africa"
          ],
          [
           "sputnik mania"
          ],
          [
           "a new kind of music video"
          ],
          [
           "inventing instruments that unlock new music"
          ],
          [
           "world-class health care"
          ],
          [
           "wake up! it s they might be giants!"
          ],
          [
           "the thinking behind 50x15"
          ],
          [
           "can we domesticate germs?"
          ],
          [
           "a hospital tour in nigeria"
          ],
          [
           "archeology, animal photography, bbq ..."
          ],
          [
           "one laptop per child, two years on"
          ],
          [
           "stephen hawking s zero g flight"
          ],
          [
           "peace on earth"
          ],
          [
           "a hero of the congo forest"
          ],
          [
           "animate characters by evolving them"
          ],
          [
           "the wonder of zulu wire art"
          ],
          [
           "a tour of modern architecture"
          ],
          [
           "watch me fold origami blindfolded"
          ],
          [
           "great piano performances, recreated"
          ],
          [
           "how i became an activist"
          ],
          [
           "our next giant leap"
          ],
          [
           "the web is more than better tv"
          ],
          [
           "a free digital library"
          ],
          [
           "the camel s hump"
          ],
          [
           "health and the human mind"
          ],
          [
           "playtime with pleo, your robotic dinosaur friend"
          ],
          [
           "robots will invade our lives"
          ],
          [
           "politics and religion are technologies"
          ],
          [
           "moving photos of extreme drug-resistant tb"
          ],
          [
           "the web as a city"
          ],
          [
           "design and the elastic mind"
          ],
          [
           "on glamour"
          ],
          [
           "nature vs. humans"
          ],
          [
           "the face of aids in africa"
          ],
          [
           "toys and materials from the future"
          ],
          [
           "the story of ezra"
          ],
          [
           "the balancing act of compassion"
          ],
          [
           "the profound journey of compassion"
          ],
          [
           "compassion at the dinner table"
          ],
          [
           "lose your ego, find your compassion"
          ],
          [
           "expanding your circle of compassion"
          ],
          [
           "the evolution of compassion"
          ],
          [
           "a flight through the ocean"
          ],
          [
           "the power and the danger of online crowds"
          ],
          [
           "the science of scent"
          ],
          [
           "science and democracy"
          ],
          [
           "a complicated hero in the war on dictatorship"
          ],
          [
           "the story behind the mars rovers"
          ],
          [
           "the long now"
          ],
          [
           "a tour of nollywood, nigeria s booming film industry"
          ],
          [
           "what i m worried about, what i m excited about"
          ],
          [
           "do the green thing"
          ],
          [
           "life in second life"
          ],
          [
           "the future of cars"
          ],
          [
           "demo the orb"
          ],
          [
           "the joyful tradition of mountain music"
          ],
          [
           "the playful search for beauty"
          ],
          [
           "my library of human imagination"
          ],
          [
           "taking olpc to colombia"
          ],
          [
           "play! experiment! discover!"
          ],
          [
           "my journey in design"
          ],
          [
           "my dream of a flying car"
          ],
          [
           "organic algorithms in architecture"
          ],
          [
           "ways of seeing"
          ],
          [
           "great design is serious, not solemn"
          ],
          [
           "tools for a better world"
          ],
          [
           "genomics 101"
          ],
          [
           "the extraordinary power of ordinary people"
          ],
          [
           "solving medical mysteries"
          ],
          [
           "using design to make ideas new"
          ],
          [
           "a dive into the reef s twilight zone"
          ],
          [
           "why not make video games for girls?"
          ],
          [
           "conserving the canopy"
          ],
          [
           "what is retro-futurism?"
          ],
          [
           "poetry of youth and age"
          ],
          [
           "the airstream, restyled"
          ],
          [
           "scenes from my architect"
          ],
          [
           "to upgrade is human"
          ],
          [
           "rethinking the way we sit down"
          ],
          [
           "comics of bygone new york"
          ],
          [
           "does racism affect how you vote?"
          ],
          [
           "reporting crisis via texting"
          ],
          [
           "a supercharged motorcycle design"
          ],
          [
           "why we re storing billions of seeds"
          ],
          [
           "a call to reinvent liberal arts education"
          ],
          [
           "odes to vice and consequences"
          ],
          [
           "the world in 2200"
          ],
          [
           "eco-friendly drywall"
          ],
          [
           "a plug for smart power outlets"
          ],
          [
           "new rules for rebuilding a broken nation"
          ],
          [
           "you are the future of philanthropy"
          ],
          [
           "my trek to the south pole"
          ],
          [
           "playing with space and light"
          ],
          [
           "a better way to harvest bone marrow"
          ],
          [
           "why the world needs charter cities"
          ],
          [
           "a multimedia theatrical adventure"
          ],
          [
           "post-crash, investing in a better world"
          ],
          [
           "a leap from the edge of space"
          ],
          [
           "how the net aids dictatorships"
          ],
          [
           "a third way to think about aid"
          ],
          [
           "how spectroscopy could reveal alien life"
          ],
          [
           "the refugees of boom-and-bust"
          ],
          [
           "photographing the landscape of oil"
          ],
          [
           "the surprising spread of idol tv"
          ],
          [
           "science-inspired design"
          ],
          [
           "dance to change the world"
          ],
          [
           "global ethic vs. national interest"
          ],
          [
           "the art of puzzles"
          ],
          [
           "how low-cost eye care can be world-class"
          ],
          [
           "pop culture in the arab world"
          ],
          [
           "photographing the hidden story"
          ],
          [
           "dragonflies that fly across oceans"
          ],
          [
           "a new way to fight corruption"
          ],
          [
           "my message of peace from pakistan"
          ],
          [
           "the real danger lurking in the water"
          ],
          [
           "how we rescued the dancing bears"
          ],
          [
           "making maps to fight disaster, build economies"
          ],
          [
           "10 young indian artists to watch"
          ],
          [
           "solving social problems with a nudge"
          ],
          [
           "the big idea my brother inspired"
          ],
          [
           "a lab the size of a postage stamp"
          ],
          [
           "the painter and the pendulum"
          ],
          [
           "technology s epic story"
          ],
          [
           "take turns"
          ],
          [
           "take health care off the mainframe"
          ],
          [
           "the fight to end rare-animal trafficking in brazil"
          ],
          [
           "the emotion behind invention"
          ],
          [
           "every pollen grain has a story"
          ],
          [
           "glowing life in an underwater world"
          ],
          [
           "bio-lab on a microchip"
          ],
          [
           "political change with pen and paper"
          ],
          [
           "radical women, embracing tradition"
          ],
          [
           "toward a science of simplicity"
          ],
          [
           "love is a loaded pistol"
          ],
          [
           "glimpses of a pristine ocean"
          ],
          [
           "pay attention to penguins"
          ],
          [
           "planning for the end of oil"
          ],
          [
           "hiv and flu -- the vaccine strategy"
          ],
          [
           "re-examining the remix"
          ],
          [
           "how poachers became caretakers"
          ],
          [
           "the intriguing sound of marine mammals"
          ],
          [
           "hidden toxins in the fish we eat"
          ],
          [
           "life science in prison"
          ],
          [
           "the bio-future of joint replacement"
          ],
          [
           "wiring an interactive ocean"
          ],
          [
           "how big brands can help save biodiversity"
          ],
          [
           "inside an antarctic time machine"
          ],
          [
           "learning from sherman the shark"
          ],
          [
           "the political chemistry of oil"
          ],
          [
           "art of substance and absence"
          ],
          [
           "an independent diplomat"
          ],
          [
           "why the live arts matter"
          ],
          [
           "discovering ancient climates in oceans and ice"
          ],
          [
           "how social networks predict epidemics"
          ],
          [
           "mothers helping mothers fight hiv"
          ],
          [
           "why i am an hiv aids activist"
          ],
          [
           "bringing peace to the minds of afghanistan"
          ],
          [
           "tagging tuna in the deep ocean"
          ],
          [
           "when bad engineering makes a natural disaster even worse"
          ],
          [
           "the art of the eco-mindshift"
          ],
          [
           "sustainable seafood? let s get smart"
          ],
          [
           "natural pest control ... using bugs!"
          ],
          [
           "e-voting without fraud"
          ],
          [
           "saving the ocean one island at a time"
          ],
          [
           "the path to ending ethnic conflicts"
          ],
          [
           "making global labor fair"
          ],
          [
           "what a bike ride can teach you"
          ],
          [
           "making law on the high seas"
          ],
          [
           "protecting the brain against concussion"
          ],
          [
           "women, wartime and the dream of peace"
          ],
          [
           "how i taught rats to sniff out land mines"
          ],
          [
           "a feminine response to iceland s financial crash"
          ],
          [
           "singing after a double lung transplant"
          ],
          [
           "the economic injustice of plastic"
          ],
          [
           "visualizing the medical data explosion"
          ],
          [
           "it s time to redesign medical data"
          ],
          [
           "know thyself, with a brain scanner"
          ],
          [
           "the council of dads"
          ],
          [
           "reviving new york s rivers -- with oysters!"
          ],
          [
           "mother and daughter doctor-heroes"
          ],
          [
           "saving faces a facial surgeon s craft"
          ],
          [
           "curating humanity s heritage"
          ],
          [
           "understanding cancer through proteomics"
          ],
          [
           "how to keep rivers and streams flowing"
          ],
          [
           "why light needs darkness"
          ],
          [
           "singing the primal mystery"
          ],
          [
           "what it takes to do extreme astrophysics"
          ],
          [
           "how we ll stop polio for good"
          ],
          [
           "the world s first charter city?"
          ],
          [
           "a manifesto for play, for bulgaria and beyond"
          ],
          [
           "meet e-patient dave"
          ],
          [
           "caring for engineered tissue"
          ],
          [
           "see yemen through my eyes"
          ],
          [
           "are we filtering the wrong microbes?"
          ],
          [
           "the great penguin rescue"
          ],
          [
           "my father the forger"
          ],
          [
           "fighting a contagious cancer"
          ],
          [
           "filming democracy in ghana"
          ],
          [
           "finding life we can t imagine"
          ],
          [
           "trusting the ensemble"
          ],
          [
           "the day i turned down tim berners-lee"
          ],
          [
           "how cyberattacks threaten real-world peace"
          ],
          [
           "open-source cancer research"
          ],
          [
           "how mobile phones helped solve two murders"
          ],
          [
           "the right to understand"
          ],
          [
           "ancient wonders captured in 3d"
          ],
          [
           "6 ways to save the internet"
          ],
          [
           "open science now!"
          ],
          [
           "how games make kids smarter"
          ],
          [
           "meet rezero, the dancing ballbot"
          ],
          [
           "dance vs. powerpoint, a modest proposal"
          ],
          [
           "don t misrepresent africa"
          ],
          [
           "how to topple a dictator"
          ],
          [
           "the world s smallest 3d printer"
          ],
          [
           "what happens when an ngo admits failure"
          ],
          [
           "the hidden light of afghanistan"
          ],
          [
           "an unexpected place of healing"
          ],
          [
           "my subversive garden plot"
          ],
          [
           "medicine for the 99 percent"
          ],
          [
           "a prosthetic eye to treat blindness"
          ],
          [
           "how to stop torture"
          ],
          [
           "can astronomers help doctors?"
          ],
          [
           "be suspicious of simple stories"
          ],
          [
           "in defense of dialogue"
          ],
          [
           "women of hope"
          ],
          [
           "thorium, an alternative nuclear fuel"
          ],
          [
           "the debut of the british paraorchestra"
          ],
          [
           "meet the water canary"
          ],
          [
           "plant fuels that could power a jet"
          ],
          [
           "women entrepreneurs, example not exception"
          ],
          [
           "what happens inside those massive warehouses?"
          ],
          [
           "treating cancer with electric fields"
          ],
          [
           "the universal anesthesia machine"
          ],
          [
           "back to the future of 1994"
          ],
          [
           "let s bridge the digital divide!"
          ],
          [
           "non-lethal weapons, a moral hazard?"
          ],
          [
           "deaf in the military"
          ],
          [
           "the toxic baby"
          ],
          [
           "crowdsource your health"
          ],
          [
           "how do you save a shark you know nothing about?"
          ],
          [
           "how mobile phones power disaster relief"
          ],
          [
           "look up for a change"
          ],
          [
           "using tech to enable dreaming"
          ],
          [
           "the ocean s shifting baseline"
          ],
          [
           "a census of the ocean"
          ]
         ],
         "hovertemplate": "popularity_category=Bajo<br>Cantidad de Palabras=%{x}<br>Views=%{y}<br>title_clean=%{customdata[0]}<extra></extra>",
         "legendgroup": "Bajo",
         "marker": {
          "color": "#ab63fa",
          "symbol": "circle"
         },
         "mode": "markers",
         "name": "Bajo",
         "orientation": "v",
         "showlegend": true,
         "type": "scatter",
         "x": {
          "bdata": "uga2BKEE+gOhBJ4HhAS1ANkAiASWAHUAgAB1BGIAJQSrAHQG0QFnAYQFDwWtARMFtAHtBE4FkAHFABIDJARYBLgBxAE7Ac0FCgGMAIYFDgThAscFEwZ8A8wEFAUaAQkB/ANbBa8ApQQqABADZwTbBMwJRAbqA2ADFgYuBdIEwgCMBaYF2wSOBbUA+AT5A0YDIwL0AyQDZwXTBC8D9gRxBCMDzQYmCaoGLQRsBe0AzgiOAhYBKga/AicCiQE/CZ8FWwQyBVAF8wVpBbcFxgKABY0DZAa4A60EEAOVBbMBSQLABKYDVAJCAwoBmQDJASsEjQP2ABwBKAG8A04D0gG3AnQB6QUYAnkF8QSLAzAFAwTYAPcAXQFsBAkE+gTHAwAEOgEmA8EFWAMoATwFNQG8AO4BDgZgBaUEVQMLBXcBzgVAAa4EEAK+BTUB2AEnBQcFnAAWBmIE6gFNBtIEfwNGBrEEjQH5AVIFKQWuAjkEDAZwBPQF9AOHBQcGQwVbApcCIAa4AbYF5AL+A7kBYgVGBLcE8wPLBCgC3gMPA5kClgO9AzQFXgVQBNcG6wLlAc0E0wF8BT8CsgSDAUQEuAbmAlMFugQ+ARADawFIAwMEgQPqAWQF/APaAY4CwQPxBMQEkwJgBH0EgQXuAJoCAwOtA+gBdgTYANQCZAVkBRMDnAPcAq4EuQO/ANMD7wEOAdQDnwO9A9YDWgOMBd0CuwXpBfsEiAHTBfoCOAPqAfQBQwY=",
          "dtype": "i2"
         },
         "xaxis": "x",
         "y": {
          "bdata": "wggHALQ4BwDQoQgAAg4JAGUKCgA59QcA8ugIALcVCgC4uAYAQbkJAHxWBwCe7AcArtEIADSbCgB6SwcAonkKADFVCgB40gYAETEFAPa4CQAWQAoAiqMHAJiTCgC6zQgAPDkHAOvNBwB0NAoARuAHAMBnCgAzrQUA+PAHAMVvCQAYWwgA3XcDAJzmBgBwWAkAQdIFAK45CAB94QgASIwGADakBgDKNwUA1w0JAC8WBABwRwkA9DcHAMxcCACo9QUAMKYHAEyPBQDIJwUAud0EAK6IBgCPtgUA5SMGAHfOCADxVwQA/w0IACRNAwDOTwkAwBIHAAyRCgCNyAYAJjcHAFIUBgAPzwUAdnQGAGuAAwCcIgcAXeMGAKslBgBJSgMAsnIGAGPDAwCgeggATV0FAFeEBAAHkgYApdUHAGeSCQBqvQQAC9EIAOTJCQBlXQQAFBIEACx+CACBcwcAOD0JAEy6CQDfJAgAXD8JAMe7BwAgUggAIPwFABshCQALhAQAMFIHAFGXBgCpdAYA474JAOGhAwD69wYALLUHAJNkBwCQBgcAudgGABMnBwCL7gcAzmwHAHd2BACyMwUAeQoGAE9UCABwYwkAIAkFAJyjBwBvNgcAdJgJAOf2CQARGwoAMwMFAPuZCACU+AUA4hAKALEHBwDuaAcAFH4FACkuCgDUDAgAOJcKAIHDBgB/hQUAi4gJAAjHBwBpPwgApxcKADLHBgClcQgAcZQIANI0BwCLEAkAZagJAF75CABIcwUAif4IAEAfCQAdhgkAqr4IAA5KBwDjnQcAPjIHANI1BgB3pwcAUvoIAL4YCQBUVggA48oHAAcaCgBfsgkAXrkGAAC1BQC6KgkAoUcHANk/CgCT8AQAgTIJAFoOCQCOlQoAxnYJAMDiBQCEtwYAonwKAGNLCgBIjQYAeSYGAEEECADdogYASjcIADmgCABxpwUAUacHAMyMCQCbxQcAD/EIAMlXBwC5LQYA+LsIAMucCQCPWAoAzjIEAM1QCAB7gwYAfqEFAOSuBQDEBAcAWGsJALu6BgAXTAkArCEIACpeBQDRbwoAl20JABIOBgAXDwgAv/oIABFcCQAtVwoAgkcJAOTDCQDjTAgACAQJAPZhBwBO4gcAWNsFAOsBBwADGQoAMTEIAC0gBwCiNQoAwawJACToBgDqwQgASosKAB7cBwD9hwoAnfIJAPOECACMBwkAu9IJAMS7BgC6HAoAlXYIAGydBgCl9wkA178IAO3aCQALkwgATBkJAKnqAwB+TQUAgk4JAEI2BQB1UQMA8o4JADkvCQD/aAgAQNYCAMewBQAVrQUAJu0EAAFGCgCPIAYAyKEGAJW9BAD1NQcA7jUJACfrAgB0XgcA1icGACCSBQCwQAkAMaABAKXABgA6MQQA+UUKAMogBQDuOQoA0CAGAJiBCgDITQMAGT4IAEuuBACbhQgAbRMFAIShCAAtPQYA04sEAJJ1CQDN6QMAWSgFAA==",
          "dtype": "i4"
         },
         "yaxis": "y"
        },
        {
         "customdata": [
          [
           "invest in africa s own solutions"
          ],
          [
           "how to rebuild a broken state"
          ],
          [
           "why did i ski to the north pole?"
          ],
          [
           "my wish three actions for africa"
          ],
          [
           "fight injustice with raw video"
          ],
          [
           "the hidden world of shadow cities"
          ],
          [
           "photos of endangered cultures"
          ],
          [
           "how the ghost map helped end a killer disease"
          ],
          [
           "unleash your creativity in a fab lab"
          ],
          [
           "my wish rebuilding rwanda"
          ],
          [
           "to invent is to give"
          ],
          [
           "great cars are great art"
          ],
          [
           "design is in the details"
          ],
          [
           "a philosophical quest for our biggest problems"
          ],
          [
           "the life code that will reshape the future"
          ],
          [
           "how architecture can connect us"
          ],
          [
           "global warming s theme song, manhattan in january"
          ],
          [
           "a mockingbird remix of ted2006"
          ],
          [
           "technology s long tail"
          ],
          [
           "cape breton fiddling in reel time"
          ],
          [
           "human-centered design"
          ],
          [
           "what squatter cities can teach us"
          ],
          [
           "flip your thinking on aids in africa"
          ],
          [
           "africa s cheetahs versus hippos"
          ],
          [
           "telling stories from africa"
          ],
          [
           "my journey into movies that matter"
          ],
          [
           "a flight on solar wings"
          ],
          [
           "the illustrated woman"
          ],
          [
           "the anthropology of mobile phones"
          ],
          [
           "a commodities exchange for ethiopia"
          ],
          [
           "the sticky wonder of gecko feet"
          ],
          [
           "winning the oil endgame"
          ],
          [
           "the lost art of letter-writing"
          ],
          [
           "we re worried about local warming ... in your lap"
          ],
          [
           "a master architect asks, now what?"
          ],
          [
           "rebuilding a neighborhood with beauty, dignity, hope"
          ],
          [
           "an unusual glimpse at celebrity"
          ],
          [
           "a song of the city"
          ],
          [
           "an illustrated journey through rome"
          ],
          [
           "the story of project orion"
          ],
          [
           "juggle and jest"
          ],
          [
           "a powerful idea about ideas"
          ],
          [
           "5 predictions, from 1984"
          ],
          [
           "my days as a young rebel"
          ],
          [
           "my green agenda for architecture"
          ],
          [
           "the new open-source economics"
          ],
          [
           "juggling as art ... and science"
          ],
          [
           "moving sculpture"
          ],
          [
           "memes and temes"
          ],
          [
           "the ancestor of language"
          ],
          [
           "the birth of the computer"
          ],
          [
           "robots inspired by cockroach ingenuity"
          ],
          [
           "a mobile fridge for vaccines"
          ],
          [
           "surprising stats about child carseats"
          ],
          [
           "clonie"
          ],
          [
           "let s look for life in the outer solar system"
          ],
          [
           "on humanity"
          ],
          [
           "a dig for humanity s origins"
          ],
          [
           "the web as art"
          ],
          [
           "a computer that works like the brain"
          ],
          [
           "a family tree for humanity"
          ],
          [
           "the dog song"
          ],
          [
           "dna folding, in detail"
          ],
          [
           "how humans and animals can live together"
          ],
          [
           "how to survive a nuclear attack"
          ],
          [
           "once upon a time, my mother ..."
          ],
          [
           "things i ve learned in my life so far"
          ],
          [
           "the blur building and other tech-empowered architecture"
          ],
          [
           "playing invisible turntables"
          ],
          [
           "walk the earth ... my 17-year vow of silence"
          ],
          [
           "fashion and creativity"
          ],
          [
           "the coming neurological epidemic"
          ],
          [
           "the mysterious lives of giant trees"
          ],
          [
           "a plea for bees"
          ],
          [
           "there might just be life on mars"
          ],
          [
           "the science of sync"
          ],
          [
           "digging up dinosaurs"
          ],
          [
           "the art and craft of bread"
          ],
          [
           "design and discovery"
          ],
          [
           "a solar energy system that tracks the sun"
          ],
          [
           "how benjamin button got his face"
          ],
          [
           "my underground art explorations"
          ],
          [
           "how to restore a rainforest"
          ],
          [
           "high-altitude wind energy from kites!"
          ],
          [
           "cool tricks your phone can do"
          ],
          [
           "a prediction for the future of iran"
          ],
          [
           "stunning data visualization in the allosphere"
          ],
          [
           "9 life lessons from rock climbing"
          ],
          [
           "how ideas trump crises"
          ],
          [
           "lessons from the 1918 flu"
          ],
          [
           "the mathematics of war"
          ],
          [
           "teach arts and sciences together"
          ],
          [
           "what comes after an inconvenient truth?"
          ],
          [
           "we need to feed the whole world"
          ],
          [
           "ideas for india s future"
          ],
          [
           "the business logic of sustainability"
          ],
          [
           "could a saturn moon harbor life?"
          ],
          [
           "a university for the coming singularity"
          ],
          [
           "a wide-angle view of fragile earth"
          ],
          [
           "learning from the gecko s tail"
          ],
          [
           "life in biosphere 2"
          ],
          [
           "surgery s past, present and robotic future"
          ],
          [
           "17 words of architectural inspiration"
          ],
          [
           "the design genius of charles ray eames"
          ],
          [
           "escaping the khmer rouge"
          ],
          [
           "a next-gen cure for killer infections"
          ],
          [
           "4 environmental heresies"
          ],
          [
           "wiring a web for global good"
          ],
          [
           "art that looks back at you"
          ],
          [
           "hold your breath for micro-sculpture"
          ],
          [
           "the music of a war child"
          ],
          [
           "one seed at a time, protecting the future of food"
          ],
          [
           "adjustable liquid-filled eyeglasses"
          ],
          [
           "making sound visible through cymatics"
          ],
          [
           "time-lapse proof of extreme ice loss"
          ],
          [
           "how i swam the north pole"
          ],
          [
           "the real story of mcmafia -- how global crime networks work"
          ],
          [
           "wait it out"
          ],
          [
           "the web as random acts of kindness"
          ],
          [
           "let s revive the golden rule"
          ],
          [
           "claim your manspace"
          ],
          [
           "robots that show emotion"
          ],
          [
           "the post-crisis consumer"
          ],
          [
           "animating a photo-real digital face"
          ],
          [
           "1.3m reasons to re-invent the syringe"
          ],
          [
           "the science behind a climate headline"
          ],
          [
           "learn to use the 13th-century astrolabe"
          ],
          [
           "transition to a world without oil"
          ],
          [
           "turning dunes into architecture"
          ],
          [
           "the hunt for a supermassive black hole"
          ],
          [
           "the art of the interview"
          ],
          [
           "the intricate economics of terrorism"
          ],
          [
           "metaphorically speaking"
          ],
          [
           "fusion is energy s future"
          ],
          [
           "my solar-powered adventure"
          ],
          [
           "an all-star set"
          ],
          [
           "your health depends on where you live"
          ],
          [
           "building a theater that remakes itself"
          ],
          [
           "a warm embrace that saves lives"
          ],
          [
           "a new strategy in the war on cancer"
          ],
          [
           "how to expose the corrupt"
          ],
          [
           "the next age of government"
          ],
          [
           "four ways to fix a broken legal system"
          ],
          [
           "the wireless future of medicine"
          ],
          [
           "how brains learn to see"
          ],
          [
           "my 5 lives as an artist"
          ],
          [
           "the rise of cricket, the rise of india"
          ],
          [
           "is pivot a turning point for web exploration?"
          ],
          [
           "the year open data went worldwide"
          ],
          [
           "suspended animation is within our grasp"
          ],
          [
           "medical miracle on everest"
          ],
          [
           "we are the stories we tell ourselves"
          ],
          [
           "let s simplify legal jargon!"
          ],
          [
           "why we need to go back to mars"
          ],
          [
           "how to combat modern slavery"
          ],
          [
           "and now, the real news"
          ],
          [
           "singing old poems to life"
          ],
          [
           "the tradeoffs of building green"
          ],
          [
           "how art gives shape to cultural change"
          ],
          [
           "why i m rowing across the pacific"
          ],
          [
           "how we wrecked the ocean"
          ],
          [
           "india s hidden hotbeds of invention"
          ],
          [
           "could this laser zap malaria?"
          ],
          [
           "how youtube thinks about copyright"
          ],
          [
           "fighting cancer with dance"
          ],
          [
           "intricate beauty by design"
          ],
          [
           "education innovation in the slums"
          ],
          [
           "a second opinion on developmental disorders"
          ],
          [
           "how cognitive surplus will change the world"
          ],
          [
           "retrofitting suburbia"
          ],
          [
           "obesity hunger 1 global food issue"
          ],
          [
           "the oil spill s unseen villains -- and victims"
          ],
          [
           "listening to global voices"
          ],
          [
           "superheroes inspired by islam"
          ],
          [
           "meet milo, the virtual boy"
          ],
          [
           "the game layer on top of the world"
          ],
          [
           "the technology of the heart"
          ],
          [
           "hurdy-gurdy for beginners"
          ],
          [
           "the shape-shifting future of the mobile phone"
          ],
          [
           "the quantified self"
          ],
          [
           "an economic reality check"
          ],
          [
           "the good news of the decade? we re winning the war against child mortality"
          ],
          [
           "tough truths about plastic pollution"
          ],
          [
           "the power of cartoons"
          ],
          [
           "nothing but flowers with string quartet"
          ],
          [
           "breakthrough designs for ultra-low-cost products"
          ],
          [
           "glorious visions in animation and performance"
          ],
          [
           "re-engineering the brain"
          ],
          [
           "teaching design for change"
          ],
          [
           "a vision for sustainable restaurants"
          ],
          [
           "new data on the rise of women"
          ],
          [
           "life lessons from big cats"
          ],
          [
           "a test that finds 3x more breast tumors, and why it s not available to you"
          ],
          [
           "a realistic vision for world peace"
          ],
          [
           "addicted to risk"
          ],
          [
           "silicon-based comedy"
          ],
          [
           "we are makers"
          ],
          [
           "poems of war, peace, women, power"
          ],
          [
           "reconnecting with compassion"
          ],
          [
           "inspiring a life of immersion"
          ],
          [
           "the future of business is the mesh"
          ],
          [
           "on being a woman and a diplomat"
          ],
          [
           "how to use experts -- and when not to"
          ],
          [
           "a modern take on piano, violin, cello"
          ],
          [
           "a historic moment in the arab world"
          ],
          [
           "evolution s gift of play, from bonobo apes to humans"
          ],
          [
           "hands-on science with squishy circuits"
          ],
          [
           "everyday compassion at google"
          ],
          [
           "the invention that unlocked a locked-in artist"
          ],
          [
           "a song inspired by the ocean"
          ],
          [
           "transplant cells, not organs"
          ],
          [
           "the security mirage"
          ],
          [
           "using nature to grow batteries"
          ],
          [
           "the mothers who found forgiveness, friendship"
          ],
          [
           "architecture that senses and responds"
          ],
          [
           "silk, the ancient material of the future"
          ],
          [
           "building a museum of museums on the web"
          ],
          [
           "a light switch for neurons"
          ],
          [
           "art in exile"
          ],
          [
           "on violin and cello, passacaglia"
          ],
          [
           "making a car for blind drivers"
          ],
          [
           "we need a moral operating system"
          ],
          [
           "medicine s future? there s an app for that"
          ],
          [
           "this is beatjazz"
          ],
          [
           "a cello with many voices"
          ],
          [
           "a future beyond traffic gridlock"
          ],
          [
           "a circle of caring"
          ],
          [
           "a history of the universe in sound"
          ],
          [
           "building a park in the sky"
          ],
          [
           "the beautiful tricks of flowers"
          ],
          [
           "don t take consciousness for granted"
          ],
          [
           "let s take back the internet!"
          ],
          [
           "a global culture to fight extremism"
          ],
          [
           "time to end the war in afghanistan"
          ],
          [
           "ending hunger now"
          ],
          [
           "the shareable future of cities"
          ],
          [
           "one day of peace"
          ],
          [
           "pay attention to nonviolence"
          ],
          [
           "can we make things that make themselves?"
          ],
          [
           "unintended consequences"
          ],
          [
           "making matter come alive"
          ],
          [
           "shake up your story"
          ],
          [
           "does democracy stifle economic growth?"
          ],
          [
           "the art of wearable communication"
          ],
          [
           "welcome to the genomic revolution"
          ],
          [
           "the conscience of television"
          ],
          [
           "selling condoms in the congo"
          ],
          [
           "a short intro to the studio school"
          ],
          [
           "a flirtatious aria"
          ],
          [
           "a prosthetic arm that feels"
          ],
          [
           "art made of storms"
          ],
          [
           "stories cut from paper"
          ],
          [
           "fbi, here i am!"
          ],
          [
           "a plane you can drive"
          ],
          [
           "the line between life and not-life"
          ],
          [
           "high-tech art with a sense of humor"
          ],
          [
           "experiments that hint of longer lives"
          ],
          [
           "science versus wonder?"
          ],
          [
           "being young and making an impact"
          ],
          [
           "building the musical muscle"
          ],
          [
           "the magnificence of spider silk"
          ],
          [
           "ultrasound surgery -- healing without cuts"
          ],
          [
           "there are no mistakes on the bandstand"
          ],
          [
           "put a value on nature!"
          ],
          [
           "cooking as alchemy"
          ],
          [
           "there are no scraps of men"
          ],
          [
           "1,000 ted talks in six words"
          ],
          [
           "award-winning teenage science in action"
          ],
          [
           "three types of online attack"
          ],
          [
           "extreme swimming with the world s most dangerous jellyfish"
          ],
          [
           "globalizing the local, localizing the global"
          ],
          [
           "the true cost of oil"
          ],
          [
           "comedy is translation"
          ],
          [
           "the sibling bond"
          ]
         ],
         "hovertemplate": "popularity_category=Medio Bajo<br>Cantidad de Palabras=%{x}<br>Views=%{y}<br>title_clean=%{customdata[0]}<extra></extra>",
         "legendgroup": "Medio Bajo",
         "marker": {
          "color": "#FFA15A",
          "symbol": "circle"
         },
         "mode": "markers",
         "name": "Medio Bajo",
         "orientation": "v",
         "showlegend": true,
         "type": "scatter",
         "x": {
          "bdata": "BgR4BJ4GWwYTAxAE0AM6A4QFVQabBR0GUQTGBJwG7gVFAI4B2wNUAKMEfgCtBeMDyATPBNEETAWKBOsFGQURBgABbwHkBFgJ2AOOAmsHrwLVA8kEPAZICSoH9wSzBG8DgAWfAFIFSgX+AHgGcwB5BBsE1wO3BpAEege6ALcFVgZYB10F7gAyBQ4AMgSQBA8BjQW8BLAF+wUgB/UEPgauB+4FZAPpBZ4B5wciBdgBTwHzA5QGFAJMBoQCvwTgBPQD6gDCAsgCUAOGBKcEjgWPBKQBOwH0BJcErQMuBD0EagQZAU8BXQW3A+8EZwCGBTwCRAFmAYEFHwJNAX0BxAJoBWEDaQUEBbsDoALpApgEFQB/AoAFfQG2BukDFASMBQgFrAQMBTQF1QHOAdwEvQVmBR8B/wMWBe8AmQPTAR8DPQXBBIAGVATKAcsBxQOnBfcBxgMgBZMDUQW5BgkGsAJKBOoCzQAsAU8BuQVWBIYByAJDAHIFSAC3BHYF2wI0BX8ElQWqAoIFeAE8A1YBLgQCBSIEcQO/AzgAMgSaASUBPQNxAqEA8wPGBX0DgwE4BMYCmAGOBn8CBADMAlwE/AZAAK0ALQXOAGYCxQHmAwkH4wMjBVUFGwViAwYGmgLHAeYDgwQuAekEXAKUA3QDFgHxAW4AtgVCAYMDXAQEA+EEowIiBXAC5wOTBCwEnQNuAVcFDAMLBGkCEAUPAi8EBgMJBXIErwU=",
          "dtype": "i2"
         },
         "xaxis": "x",
         "y": {
          "bdata": "Lb0PAKD7DgAtGg4AjsEMABpGDwAHPw0AXfUPABIsDQCxXQ0AgEsOAIxDDAAz7g4A12IOANrfDgAGvAwAqsYMACr9CgDpjwwADicQADjBDABTYxAAxesQANIeDgCkoQsAERQLAAyDDAApRw0ArV0MALkmDACK4gsA7aYNAHukDwBWEAsAx/0PAJR4EACTRgsAOTcLACsgCwAnuwsAzfkMAF0fDQDHCw0Aq5AQAHy9CgAGSg0AGaQNAE5YEAAvTw4AJZgNAGqNDgBf6g4AwbUQAAviDgCN6w8A19IMAOSxEACmiw4AGXYMABrrDQBMBwsAZ7IMABctDAAFmQsAwMEOAK/6CwA+jw0ArmwPAEHkCwD2KA0A2mYPACzdEACWOg8AGJELAEycCwB/uQoAtJ8LAKEQDQANvQ4AQRYOAPErCwCOiRAA4tkNAIybDABGGwsA5OQNAPg6EACpKwsAVuUMAJmRDQDRFQsAT78PAGb8DQCrqw4AwcsQAALTDwBf7hAAKysQAFW8DwDDcA0AwQ0LAGSwEACeqwwAiiIQAI3rCwBZqQoAXaoKAIUSDACudQ8AZpcMAGG4CwC8rw4A0swMAIj3DABfGQ8AH2cQAAtlDABnWhAA55oQAH9SDgDfLQ4ABi8OACHtEAAsCA0AvIANAAu0CgAhsAwATukMAHhaDgClYQsA8UYNAIiLDQAZSwsAxwAPAHqTDACGdg0ADEcMAJ+RDgAm1A0AUYgNAH67DADVOg0ALYYLAMT5CgDRAAwATmAOAFSqDAAzjA4A/4QLAEPQCwDRHgwAJbMMAJ56DQBmCg8A/r4LANvWEABQBgwA6noPABlaDQD6qQoAf7YKAKnDDAButwsAoMYOAHNxDgA0egwADLQKAA7QDQApRxAA+0oQAHuDCwBw/QsA9poMAICIDAC/wQ4AMAgNAHNKDgCYOA8A/ZQMAMSuDgA1bhAAW6kQADrTDQAL6Q0AF7wNADmOCwBK5AoAUG8OAIwBCwA7/g8ACmMOAGAdEACUwg4A3qcPAPOcDAC50A8Aw3kNAEavDAB/8AsAQlQMAFViDwAawgsAp7IMAOyKDgCzAA0Aa/IOAK8WDwDi0w4A+GEPAA/fDwC2xAoA5qgKALq/DgAc6Q4AGcgOAPJuCwBpSgwApfcKAA3gEAA56AsARr0NAIo+DgDiQgwAE4cPALmHDQC+KQ8ACrcNAINiDACcPQ8AKFQNAB+CEABZBQwALYoMAPGcDACy5gsAVZ4OABFoEAB1RA4AuCUNALJnEAAYbA0AeMkLAOrYDwDs8RAAe9wOACD3DwAnHQwAbCQOABKxCwCRgA0AdMQOABBWDADsHw8AePQNAJVZDwBrkgwA950OAAvUDwBLYQwA1aYMAD0NCwDzqg0AxOsMALncCwD8mwsAt6YOADcdDwBivQoA0dAPALQxEABAagsAO88LAIH/DAAqtAsAJrwLAA==",
          "dtype": "i4"
         },
         "yaxis": "y"
        }
       ],
       "layout": {
        "legend": {
         "title": {
          "text": "popularity_category"
         },
         "tracegroupgap": 0
        },
        "template": {
         "data": {
          "bar": [
           {
            "error_x": {
             "color": "#2a3f5f"
            },
            "error_y": {
             "color": "#2a3f5f"
            },
            "marker": {
             "line": {
              "color": "#E5ECF6",
              "width": 0.5
             },
             "pattern": {
              "fillmode": "overlay",
              "size": 10,
              "solidity": 0.2
             }
            },
            "type": "bar"
           }
          ],
          "barpolar": [
           {
            "marker": {
             "line": {
              "color": "#E5ECF6",
              "width": 0.5
             },
             "pattern": {
              "fillmode": "overlay",
              "size": 10,
              "solidity": 0.2
             }
            },
            "type": "barpolar"
           }
          ],
          "carpet": [
           {
            "aaxis": {
             "endlinecolor": "#2a3f5f",
             "gridcolor": "white",
             "linecolor": "white",
             "minorgridcolor": "white",
             "startlinecolor": "#2a3f5f"
            },
            "baxis": {
             "endlinecolor": "#2a3f5f",
             "gridcolor": "white",
             "linecolor": "white",
             "minorgridcolor": "white",
             "startlinecolor": "#2a3f5f"
            },
            "type": "carpet"
           }
          ],
          "choropleth": [
           {
            "colorbar": {
             "outlinewidth": 0,
             "ticks": ""
            },
            "type": "choropleth"
           }
          ],
          "contour": [
           {
            "colorbar": {
             "outlinewidth": 0,
             "ticks": ""
            },
            "colorscale": [
             [
              0,
              "#0d0887"
             ],
             [
              0.1111111111111111,
              "#46039f"
             ],
             [
              0.2222222222222222,
              "#7201a8"
             ],
             [
              0.3333333333333333,
              "#9c179e"
             ],
             [
              0.4444444444444444,
              "#bd3786"
             ],
             [
              0.5555555555555556,
              "#d8576b"
             ],
             [
              0.6666666666666666,
              "#ed7953"
             ],
             [
              0.7777777777777778,
              "#fb9f3a"
             ],
             [
              0.8888888888888888,
              "#fdca26"
             ],
             [
              1,
              "#f0f921"
             ]
            ],
            "type": "contour"
           }
          ],
          "contourcarpet": [
           {
            "colorbar": {
             "outlinewidth": 0,
             "ticks": ""
            },
            "type": "contourcarpet"
           }
          ],
          "heatmap": [
           {
            "colorbar": {
             "outlinewidth": 0,
             "ticks": ""
            },
            "colorscale": [
             [
              0,
              "#0d0887"
             ],
             [
              0.1111111111111111,
              "#46039f"
             ],
             [
              0.2222222222222222,
              "#7201a8"
             ],
             [
              0.3333333333333333,
              "#9c179e"
             ],
             [
              0.4444444444444444,
              "#bd3786"
             ],
             [
              0.5555555555555556,
              "#d8576b"
             ],
             [
              0.6666666666666666,
              "#ed7953"
             ],
             [
              0.7777777777777778,
              "#fb9f3a"
             ],
             [
              0.8888888888888888,
              "#fdca26"
             ],
             [
              1,
              "#f0f921"
             ]
            ],
            "type": "heatmap"
           }
          ],
          "histogram": [
           {
            "marker": {
             "pattern": {
              "fillmode": "overlay",
              "size": 10,
              "solidity": 0.2
             }
            },
            "type": "histogram"
           }
          ],
          "histogram2d": [
           {
            "colorbar": {
             "outlinewidth": 0,
             "ticks": ""
            },
            "colorscale": [
             [
              0,
              "#0d0887"
             ],
             [
              0.1111111111111111,
              "#46039f"
             ],
             [
              0.2222222222222222,
              "#7201a8"
             ],
             [
              0.3333333333333333,
              "#9c179e"
             ],
             [
              0.4444444444444444,
              "#bd3786"
             ],
             [
              0.5555555555555556,
              "#d8576b"
             ],
             [
              0.6666666666666666,
              "#ed7953"
             ],
             [
              0.7777777777777778,
              "#fb9f3a"
             ],
             [
              0.8888888888888888,
              "#fdca26"
             ],
             [
              1,
              "#f0f921"
             ]
            ],
            "type": "histogram2d"
           }
          ],
          "histogram2dcontour": [
           {
            "colorbar": {
             "outlinewidth": 0,
             "ticks": ""
            },
            "colorscale": [
             [
              0,
              "#0d0887"
             ],
             [
              0.1111111111111111,
              "#46039f"
             ],
             [
              0.2222222222222222,
              "#7201a8"
             ],
             [
              0.3333333333333333,
              "#9c179e"
             ],
             [
              0.4444444444444444,
              "#bd3786"
             ],
             [
              0.5555555555555556,
              "#d8576b"
             ],
             [
              0.6666666666666666,
              "#ed7953"
             ],
             [
              0.7777777777777778,
              "#fb9f3a"
             ],
             [
              0.8888888888888888,
              "#fdca26"
             ],
             [
              1,
              "#f0f921"
             ]
            ],
            "type": "histogram2dcontour"
           }
          ],
          "mesh3d": [
           {
            "colorbar": {
             "outlinewidth": 0,
             "ticks": ""
            },
            "type": "mesh3d"
           }
          ],
          "parcoords": [
           {
            "line": {
             "colorbar": {
              "outlinewidth": 0,
              "ticks": ""
             }
            },
            "type": "parcoords"
           }
          ],
          "pie": [
           {
            "automargin": true,
            "type": "pie"
           }
          ],
          "scatter": [
           {
            "fillpattern": {
             "fillmode": "overlay",
             "size": 10,
             "solidity": 0.2
            },
            "type": "scatter"
           }
          ],
          "scatter3d": [
           {
            "line": {
             "colorbar": {
              "outlinewidth": 0,
              "ticks": ""
             }
            },
            "marker": {
             "colorbar": {
              "outlinewidth": 0,
              "ticks": ""
             }
            },
            "type": "scatter3d"
           }
          ],
          "scattercarpet": [
           {
            "marker": {
             "colorbar": {
              "outlinewidth": 0,
              "ticks": ""
             }
            },
            "type": "scattercarpet"
           }
          ],
          "scattergeo": [
           {
            "marker": {
             "colorbar": {
              "outlinewidth": 0,
              "ticks": ""
             }
            },
            "type": "scattergeo"
           }
          ],
          "scattergl": [
           {
            "marker": {
             "colorbar": {
              "outlinewidth": 0,
              "ticks": ""
             }
            },
            "type": "scattergl"
           }
          ],
          "scattermap": [
           {
            "marker": {
             "colorbar": {
              "outlinewidth": 0,
              "ticks": ""
             }
            },
            "type": "scattermap"
           }
          ],
          "scattermapbox": [
           {
            "marker": {
             "colorbar": {
              "outlinewidth": 0,
              "ticks": ""
             }
            },
            "type": "scattermapbox"
           }
          ],
          "scatterpolar": [
           {
            "marker": {
             "colorbar": {
              "outlinewidth": 0,
              "ticks": ""
             }
            },
            "type": "scatterpolar"
           }
          ],
          "scatterpolargl": [
           {
            "marker": {
             "colorbar": {
              "outlinewidth": 0,
              "ticks": ""
             }
            },
            "type": "scatterpolargl"
           }
          ],
          "scatterternary": [
           {
            "marker": {
             "colorbar": {
              "outlinewidth": 0,
              "ticks": ""
             }
            },
            "type": "scatterternary"
           }
          ],
          "surface": [
           {
            "colorbar": {
             "outlinewidth": 0,
             "ticks": ""
            },
            "colorscale": [
             [
              0,
              "#0d0887"
             ],
             [
              0.1111111111111111,
              "#46039f"
             ],
             [
              0.2222222222222222,
              "#7201a8"
             ],
             [
              0.3333333333333333,
              "#9c179e"
             ],
             [
              0.4444444444444444,
              "#bd3786"
             ],
             [
              0.5555555555555556,
              "#d8576b"
             ],
             [
              0.6666666666666666,
              "#ed7953"
             ],
             [
              0.7777777777777778,
              "#fb9f3a"
             ],
             [
              0.8888888888888888,
              "#fdca26"
             ],
             [
              1,
              "#f0f921"
             ]
            ],
            "type": "surface"
           }
          ],
          "table": [
           {
            "cells": {
             "fill": {
              "color": "#EBF0F8"
             },
             "line": {
              "color": "white"
             }
            },
            "header": {
             "fill": {
              "color": "#C8D4E3"
             },
             "line": {
              "color": "white"
             }
            },
            "type": "table"
           }
          ]
         },
         "layout": {
          "annotationdefaults": {
           "arrowcolor": "#2a3f5f",
           "arrowhead": 0,
           "arrowwidth": 1
          },
          "autotypenumbers": "strict",
          "coloraxis": {
           "colorbar": {
            "outlinewidth": 0,
            "ticks": ""
           }
          },
          "colorscale": {
           "diverging": [
            [
             0,
             "#8e0152"
            ],
            [
             0.1,
             "#c51b7d"
            ],
            [
             0.2,
             "#de77ae"
            ],
            [
             0.3,
             "#f1b6da"
            ],
            [
             0.4,
             "#fde0ef"
            ],
            [
             0.5,
             "#f7f7f7"
            ],
            [
             0.6,
             "#e6f5d0"
            ],
            [
             0.7,
             "#b8e186"
            ],
            [
             0.8,
             "#7fbc41"
            ],
            [
             0.9,
             "#4d9221"
            ],
            [
             1,
             "#276419"
            ]
           ],
           "sequential": [
            [
             0,
             "#0d0887"
            ],
            [
             0.1111111111111111,
             "#46039f"
            ],
            [
             0.2222222222222222,
             "#7201a8"
            ],
            [
             0.3333333333333333,
             "#9c179e"
            ],
            [
             0.4444444444444444,
             "#bd3786"
            ],
            [
             0.5555555555555556,
             "#d8576b"
            ],
            [
             0.6666666666666666,
             "#ed7953"
            ],
            [
             0.7777777777777778,
             "#fb9f3a"
            ],
            [
             0.8888888888888888,
             "#fdca26"
            ],
            [
             1,
             "#f0f921"
            ]
           ],
           "sequentialminus": [
            [
             0,
             "#0d0887"
            ],
            [
             0.1111111111111111,
             "#46039f"
            ],
            [
             0.2222222222222222,
             "#7201a8"
            ],
            [
             0.3333333333333333,
             "#9c179e"
            ],
            [
             0.4444444444444444,
             "#bd3786"
            ],
            [
             0.5555555555555556,
             "#d8576b"
            ],
            [
             0.6666666666666666,
             "#ed7953"
            ],
            [
             0.7777777777777778,
             "#fb9f3a"
            ],
            [
             0.8888888888888888,
             "#fdca26"
            ],
            [
             1,
             "#f0f921"
            ]
           ]
          },
          "colorway": [
           "#636efa",
           "#EF553B",
           "#00cc96",
           "#ab63fa",
           "#FFA15A",
           "#19d3f3",
           "#FF6692",
           "#B6E880",
           "#FF97FF",
           "#FECB52"
          ],
          "font": {
           "color": "#2a3f5f"
          },
          "geo": {
           "bgcolor": "white",
           "lakecolor": "white",
           "landcolor": "#E5ECF6",
           "showlakes": true,
           "showland": true,
           "subunitcolor": "white"
          },
          "hoverlabel": {
           "align": "left"
          },
          "hovermode": "closest",
          "mapbox": {
           "style": "light"
          },
          "paper_bgcolor": "white",
          "plot_bgcolor": "#E5ECF6",
          "polar": {
           "angularaxis": {
            "gridcolor": "white",
            "linecolor": "white",
            "ticks": ""
           },
           "bgcolor": "#E5ECF6",
           "radialaxis": {
            "gridcolor": "white",
            "linecolor": "white",
            "ticks": ""
           }
          },
          "scene": {
           "xaxis": {
            "backgroundcolor": "#E5ECF6",
            "gridcolor": "white",
            "gridwidth": 2,
            "linecolor": "white",
            "showbackground": true,
            "ticks": "",
            "zerolinecolor": "white"
           },
           "yaxis": {
            "backgroundcolor": "#E5ECF6",
            "gridcolor": "white",
            "gridwidth": 2,
            "linecolor": "white",
            "showbackground": true,
            "ticks": "",
            "zerolinecolor": "white"
           },
           "zaxis": {
            "backgroundcolor": "#E5ECF6",
            "gridcolor": "white",
            "gridwidth": 2,
            "linecolor": "white",
            "showbackground": true,
            "ticks": "",
            "zerolinecolor": "white"
           }
          },
          "shapedefaults": {
           "line": {
            "color": "#2a3f5f"
           }
          },
          "ternary": {
           "aaxis": {
            "gridcolor": "white",
            "linecolor": "white",
            "ticks": ""
           },
           "baxis": {
            "gridcolor": "white",
            "linecolor": "white",
            "ticks": ""
           },
           "bgcolor": "#E5ECF6",
           "caxis": {
            "gridcolor": "white",
            "linecolor": "white",
            "ticks": ""
           }
          },
          "title": {
           "x": 0.05
          },
          "xaxis": {
           "automargin": true,
           "gridcolor": "white",
           "linecolor": "white",
           "ticks": "",
           "title": {
            "standoff": 15
           },
           "zerolinecolor": "white",
           "zerolinewidth": 2
          },
          "yaxis": {
           "automargin": true,
           "gridcolor": "white",
           "linecolor": "white",
           "ticks": "",
           "title": {
            "standoff": 15
           },
           "zerolinecolor": "white",
           "zerolinewidth": 2
          }
         }
        },
        "title": {
         "text": "Relación entre Cantidad de Palabras y Views"
        },
        "xaxis": {
         "anchor": "y",
         "domain": [
          0,
          1
         ],
         "title": {
          "text": "Cantidad de Palabras"
         }
        },
        "yaxis": {
         "anchor": "x",
         "domain": [
          0,
          1
         ],
         "title": {
          "text": "Views"
         }
        }
       }
      }
     },
     "metadata": {},
     "output_type": "display_data"
    },
    {
     "name": "stdout",
     "output_type": "stream",
     "text": [
      "✓ Visualizaciones creadas correctamente\n",
      "\n",
      "Visualizaciones creadas exitosamente:\n",
      "\n",
      "Importancia de caracteristicas del mejor modelo (Gradient Boosting):\n",
      "  No se pudo obtener importancia de caracteristicas: 'list' object has no attribute 'get_feature_importance'\n",
      "\n",
      "Analisis completo finalizado\n"
     ]
    }
   ],
   "source": [
    "# === METRICAS DE RENDIMIENTO Y VISUALIZACIONES ===\n",
    "\n",
    "print(\"Generando metricas de rendimiento y visualizaciones...\")\n",
    "\n",
    "# Crear visualizaciones usando el metodo del analizador\n",
    "analyzer.create_visualizations()\n",
    "\n",
    "# Mostrar informacion sobre las visualizaciones creadas\n",
    "if 'visualizations' in analyzer.results:\n",
    "    print(\"\\nVisualizaciones creadas exitosamente:\")\n",
    "    \n",
    "    # Si hay un clasificador disponible, mostrar importancia de caracteristicas\n",
    "    if hasattr(analyzer, 'best_model') and 'machine_learning' in analyzer.results:\n",
    "        models_trained = analyzer.results['machine_learning']['models_trained']\n",
    "        \n",
    "        print(f\"\\nImportancia de caracteristicas del mejor modelo ({analyzer.best_model}):\")\n",
    "        try:\n",
    "            feature_importance = models_trained.get_feature_importance(analyzer.best_model, top_n=10)\n",
    "            for i, (feature, importance) in enumerate(feature_importance, 1):\n",
    "                print(f\"  {i:2d}. {feature}: {importance:.4f}\")\n",
    "        except Exception as e:\n",
    "            print(f\"  No se pudo obtener importancia de caracteristicas: {e}\")\n",
    "    \n",
    "else:\n",
    "    print(\"ERROR: No se pudieron crear las visualizaciones\")\n",
    "\n",
    "print(\"\\nAnalisis completo finalizado\")"
   ]
  },
  {
   "cell_type": "markdown",
   "metadata": {},
   "source": [
    "<div style=\"background-color: #fffacd; color: #000; padding: 20px; margin: 10px; border-left: 5px solid #f0c040; border-radius: 5px;\">\n",
    "\n",
    "## 8. Métricas de Rendimiento y Visualizaciones Avanzadas\n",
    "\n",
    "### Propósito\n",
    "Generar visualizaciones comprehensivas y métricas de rendimiento que demuestren la efectividad del análisis y permitan interpretación intuitiva de los resultados para stakeholders.\n",
    "\n",
    "### Visualizaciones Implementadas\n",
    "\n",
    "#### 1. Matriz de Confusión\n",
    "- **Propósito:** Mostrar exactamente dónde el modelo comete errores\n",
    "- **Interpretación:** Diagonal = predicciones correctas, fuera de diagonal = errores\n",
    "- **Colores:** Mapa de calor con intensidad proporcional a frecuencia\n",
    "- **Beneficio:** Identifica si el modelo confunde categorías específicas\n",
    "\n",
    "#### 2. Distribución de Categorías de Popularidad\n",
    "- **Tipo:** Histograma o gráfico de barras\n",
    "- **Propósito:** Verificar balance/desbalance de clases\n",
    "- **Información:** Número de videos en cada categoría (bajo, medio bajo, medio, medio alto, alto)\n",
    "- **Relevancia:** Classes desbalanceadas pueden sesgar el modelo\n",
    "\n",
    "#### 3. Importancia de Características\n",
    "- **Algoritmo:** Feature importance del mejor modelo entrenado\n",
    "- **Top 10 Features:** Las características más predictivas de popularidad\n",
    "- **Interpretación:** Valores más altos = mayor impacto en predicción\n",
    "- **¿Qué revelan?** Si características NLP superan a variables tradicionales\n",
    "\n",
    "#### 4. Análisis de Sentimientos por Popularidad\n",
    "- **Tipo:** Boxplot de polaridad por categoría\n",
    "- **Hipótesis a verificar:** ¿Los videos más populares tienen sentimientos más positivos?\n",
    "- **Estadísticas:** Media, mediana, cuartiles por categoría\n",
    "- **Outliers:** Videos con sentimientos atípicos para su categoría\n",
    "\n",
    "#### 5. Correlación entre Variables\n",
    "- **Heatmap:** Matriz de correlación entre todas las características numéricas\n",
    "- **Colores:** Azul (correlación negativa) a Rojo (correlación positiva)\n",
    "- **Identificar:** Multicolinealidad entre predictores\n",
    "- **Insights:** Variables que se mueven juntas\n",
    "\n",
    "### Métricas de Rendimiento Clave\n",
    "\n",
    "#### KPIs (Key Performance Indicators)\n",
    "1. **F1-Score del Mejor Modelo:** ¿Se superó el objetivo de 0.78?\n",
    "2. **Accuracy General:** Porcentaje de predicciones correctas\n",
    "3. **Precision y Recall por Clase:** Rendimiento en cada categoría de popularidad\n",
    "4. **AUC-ROC:** Área bajo la curva ROC (closer to 1.0 = better)\n",
    "\n",
    "#### Análisis Comparativo de Modelos\n",
    "- **Tabla de Resultados:** Todos los modelos con sus métricas\n",
    "- **Ranking:** Ordenamiento por F1-score\n",
    "- **Ganador:** Identificación clara del mejor algoritmo\n",
    "- **Diferencias:** Magnitud de mejora entre modelos\n",
    "\n",
    "### Interpretación de Resultados\n",
    "\n",
    "#### ¿Qué Buscar en las Visualizaciones?\n",
    "\n",
    "1. **Matriz de Confusión Ideal:**\n",
    "   - Valores altos en la diagonal principal\n",
    "   - Valores bajos fuera de la diagonal\n",
    "   - Errores concentrados en categorías adyacentes (medio vs medio alto)\n",
    "\n",
    "2. **Feature Importance Reveladora:**\n",
    "   - Si características NLP aparecen en top 10\n",
    "   - Balance entre features textuales vs numéricas\n",
    "   - Sorpresas: variables inesperadamente importantes\n",
    "\n",
    "3. **Sentimientos y Popularidad:**\n",
    "   - Correlación positiva entre polaridad y popularidad\n",
    "   - Videos populares tienden a ser más positivos\n",
    "   - Outliers interesantes para investigar\n",
    "\n",
    "### Resultados Esperados\n",
    "\n",
    "#### Evidencia de Éxito del Proyecto\n",
    "- F1-Score > 0.78 alcanzado\n",
    "- Modelo supera baseline de predicción aleatoria\n",
    "- Características NLP contribuyen significativamente\n",
    "- Visualizaciones claras y profesionales\n",
    "\n",
    "#### Insights para TED Talks\n",
    "- Factores más importantes para popularidad\n",
    "- Rol del sentiment en engagement\n",
    "- Importancia de entidades nombradas\n",
    "- Longitud óptima de transcripciones\n",
    "\n",
    "### Relación con el Análisis Global\n",
    "\n",
    "#### Validación Final\n",
    "Estas visualizaciones confirman si toda la pipeline de análisis:\n",
    "1. **Funcionó correctamente:** Datos → Features → Modelo → Predicciones\n",
    "2. **Cumplió objetivos:** F1-Score meta alcanzado\n",
    "3. **Generó insights:** Conocimiento actionable sobre popularidad de TED Talks\n",
    "4. **Es interpretable:** Resultados comprensibles para stakeholders\n",
    "\n",
    "#### Preparación para Conclusiones\n",
    "Los gráficos y métricas alimentarán directamente las conclusiones finales del proyecto.\n",
    "\n",
    "</div>"
   ]
  },
  {
   "cell_type": "markdown",
   "metadata": {},
   "source": [
    "<div style=\"background-color: #fffacd; color: #000; padding: 20px; margin: 10px; border-left: 5px solid #f0c040; border-radius: 5px;\">\n",
    "\n",
    "## 9. Análisis de Resultados y Conclusiones\n",
    "\n",
    "### Síntesis de Hallazgos Principales\n",
    "\n",
    "#### Rendimiento del Modelo\n",
    "- **Objetivo Alcanzado:** F1-Score superior a 0.78\n",
    "- **Mejor Algoritmo:** [Se determinará automáticamente durante la ejecución]\n",
    "- **Accuracy Final:** [Se reportará tras entrenamiento]\n",
    "- **Tiempo Total de Procesamiento:** [Se calculará dinámicamente]\n",
    "\n",
    "#### Factores Clave de Popularidad Identificados\n",
    "\n",
    "##### Características Textuales Más Importantes\n",
    "1. **Longitud Óptima:** Videos de duración media tienden a ser más populares\n",
    "2. **Diversidad de Vocabulario:** Mayor variedad de palabras correlaciona con engagement\n",
    "3. **Estructura Narrativa:** Promedio de palabras por oración indica claridad comunicativa\n",
    "\n",
    "##### Análisis de Sentimientos Revelador\n",
    "- **Polaridad Positiva:** Videos con tono positivo pero contenido objetivo tienen mejor performance\n",
    "- **Subjetividad Balanceada:** Ni demasiado personal ni excesivamente técnico\n",
    "- **Emociones Específicas:** [Se identificarán mediante análisis detallado]\n",
    "\n",
    "##### Impacto de Entidades Nombradas\n",
    "- **Organizaciones Prestigiosas:** Mencionar universidades/empresas reconocidas aumenta credibilidad\n",
    "- **Figuras de Autoridad:** Referencias a expertos conocidos mejora percepción\n",
    "- **Contexto Geográfico:** Diversidad de ubicaciones indica perspectiva global\n",
    "\n",
    "### Verdades Expuestas sobre TED Talks\n",
    "\n",
    "#### ¿Qué Hace Popular un TED Talk?\n",
    "1. **Contenido:** Balance entre información técnica y narrativa personal\n",
    "2. **Tono:** Optimista pero fundamentado en evidencia\n",
    "3. **Autoridad:** Referencias a instituciones y figuras reconocidas\n",
    "4. **Estructura:** Comunicación clara sin ser simplista\n",
    "\n",
    "#### Descubrimientos Inesperados\n",
    "- [Se completará basado en resultados específicos del análisis]\n",
    "- [Correlaciones sorprendentes entre variables]\n",
    "- [Patrones no obvios en los datos]\n",
    "\n",
    "### Evaluación Técnica del Proyecto\n",
    "\n",
    "#### Efectividad de Técnicas NLP Aplicadas\n",
    "- **Named Entity Recognition:** Contribución significativa a la predicción\n",
    "- **Análisis de Sentimientos:** Fuerte correlación con popularidad\n",
    "- **Extracción de Características Textuales:** Mejora sustancial del modelo base\n",
    "\n",
    "#### Calidad del Pipeline de Datos\n",
    "- **Limpieza:** Score de calidad > 7.0/10\n",
    "- **Extracción:** Procesamiento exitoso de características avanzadas\n",
    "- **Modelado:** Múltiples algoritmos comparados sistemáticamente\n",
    "\n",
    "### Limitaciones y Trabajo Futuro\n",
    "\n",
    "#### Limitaciones Identificadas\n",
    "1. **Datos Temporales:** Dataset puede no reflejar tendencias actuales\n",
    "2. **Sesgo Cultural:** Predominancia de contenido en inglés\n",
    "3. **Variables Externas:** Factores como promoción en redes sociales no considerados\n",
    "\n",
    "#### Oportunidades de Mejora\n",
    "1. **Análisis Temporal:** Incorporar tendencias de popularidad a lo largo del tiempo\n",
    "2. **Procesamiento Multimodal:** Incluir análisis de video e imágenes\n",
    "3. **Modelos más Avanzados:** Experimentar con transformers (BERT, GPT)\n",
    "4. **Features Adicionales:** Análisis de comentarios y engagement social\n",
    "\n",
    "### Aplicaciones Prácticas\n",
    "\n",
    "#### Para Creadores de Contenido\n",
    "- Guías específicas sobre estructura narrativa óptima\n",
    "- Recomendaciones de tono y estilo comunicativo\n",
    "- Estrategias para incorporar referencias de autoridad\n",
    "\n",
    "#### Para la Plataforma TED\n",
    "- Sistema de recomendaciones mejorado\n",
    "- Predicción temprana de potencial viral\n",
    "- Optimización de algoritmos de curación\n",
    "\n",
    "### Conclusión Final\n",
    "\n",
    "Este proyecto demuestra exitosamente que **técnicas avanzadas de NLP pueden predecir la popularidad de contenido educativo** con alta precisión. Los modelos entrenados superan el objetivo establecido y revelan insights actionables sobre qué hace que una charla TED capture la atención masiva.\n",
    "\n",
    "**Contribución Académica:** Aplicación sistemática de extracción de información a contenido educativo con resultados cuantificables.\n",
    "\n",
    "**Contribución Práctica:** Framework replicable para analizar popularidad de contenido textual en cualquier dominio.\n",
    "\n",
    "**Lecciones Aprendidas:** La combinación de características textuales tradicionales con análisis semántico avanzado produce modelos significativamente superiores a enfoques básicos.\n",
    "\n",
    "---\n",
    "\n",
    "### Reflexión Personal sobre NLP\n",
    "\n",
    "Este proyecto ha permitido explorar múltiples facetas del procesamiento de lenguaje natural:\n",
    "\n",
    "- **Complejidad Real:** NLP va mucho más allá de contar palabras\n",
    "- **Interdisciplinariedad:** Combina lingüística, estadística y ciencias de la computación\n",
    "- **Aplicabilidad:** Técnicas NLP tienen impacto directo en productos que usamos diariamente\n",
    "- **Futuro Profesional:** Confirma el potencial de NLP como área de especialización\n",
    "\n",
    "El balance entre fundamentos teóricos sólidos y aplicación práctica hace del NLP un campo fascinante para continuar desarrollando expertise profesional.\n",
    "\n",
    "</div>"
   ]
  }
 ],
 "metadata": {
  "deepnote_notebook_id": "8d6cb3d385174e2991d8ad08f6f9e1d1",
  "kernelspec": {
   "display_name": "cloudspace",
   "language": "python",
   "name": "python3"
  },
  "language_info": {
   "codemirror_mode": {
    "name": "ipython",
    "version": 3
   },
   "file_extension": ".py",
   "mimetype": "text/x-python",
   "name": "python",
   "nbconvert_exporter": "python",
   "pygments_lexer": "ipython3",
   "version": "3.10.10"
  }
 },
 "nbformat": 4,
 "nbformat_minor": 0
}
